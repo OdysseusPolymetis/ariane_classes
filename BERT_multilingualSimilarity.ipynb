{
  "cells": [
    {
      "cell_type": "markdown",
      "metadata": {
        "id": "view-in-github",
        "colab_type": "text"
      },
      "source": [
        "<a href=\"https://colab.research.google.com/github/OdysseusPolymetis/ariane_classes/blob/main/BERT_multilingualSimilarity.ipynb\" target=\"_parent\"><img src=\"https://colab.research.google.com/assets/colab-badge.svg\" alt=\"Open In Colab\"/></a>"
      ]
    },
    {
      "cell_type": "markdown",
      "metadata": {
        "id": "nG7DZEpdzDLu"
      },
      "source": [
        "# <center>**Mesures de similarités entre le grec et les traductions latines**</center>"
      ]
    },
    {
      "cell_type": "markdown",
      "metadata": {
        "id": "KUP8_s_FuAH9"
      },
      "source": [
        "Requirements"
      ]
    },
    {
      "cell_type": "code",
      "execution_count": null,
      "metadata": {
        "id": "HKrcW3eIdoZM"
      },
      "outputs": [],
      "source": [
        "!pip install torch transformers numpy stanza umap-learn sentencepiece"
      ]
    },
    {
      "cell_type": "code",
      "execution_count": null,
      "metadata": {
        "colab": {
          "base_uri": "https://localhost:8080/"
        },
        "id": "kNyToyX_zgKU",
        "outputId": "25bdc346-e723-439a-f732-1f702701caec"
      },
      "outputs": [
        {
          "output_type": "stream",
          "name": "stdout",
          "text": [
            "Mounted at /content/drive\n"
          ]
        }
      ],
      "source": [
        "from google.colab import drive\n",
        "drive.mount('/content/drive')"
      ]
    },
    {
      "cell_type": "code",
      "execution_count": null,
      "metadata": {
        "colab": {
          "base_uri": "https://localhost:8080/"
        },
        "id": "Skftlq81zZlz",
        "outputId": "b2a71851-a3a5-462d-8529-7822c701ad2d"
      },
      "outputs": [
        {
          "name": "stdout",
          "output_type": "stream",
          "text": [
            "Cloning into 'canonical-greekLit'...\n",
            "remote: Enumerating objects: 59342, done.\u001b[K\n",
            "remote: Counting objects: 100% (50/50), done.\u001b[K\n",
            "remote: Compressing objects: 100% (36/36), done.\u001b[K\n",
            "remote: Total 59342 (delta 14), reused 50 (delta 14), pack-reused 59292\u001b[K\n",
            "Receiving objects: 100% (59342/59342), 513.64 MiB | 25.92 MiB/s, done.\n",
            "Resolving deltas: 100% (39515/39515), done.\n",
            "Updating files: 100% (2634/2634), done.\n"
          ]
        }
      ],
      "source": [
        "!git clone https://github.com/PerseusDL/canonical-greekLit.git"
      ]
    },
    {
      "cell_type": "code",
      "execution_count": null,
      "metadata": {
        "id": "UwO2DZ8zpmZA"
      },
      "outputs": [],
      "source": [
        "!git clone https://github.com/PerseusDL/canonical-latinLit.git"
      ]
    },
    {
      "cell_type": "markdown",
      "metadata": {
        "id": "ZlSKHcvvuVzD"
      },
      "source": [
        "Les imports"
      ]
    },
    {
      "cell_type": "code",
      "execution_count": null,
      "metadata": {
        "id": "VKXQ_J3RzphS"
      },
      "outputs": [],
      "source": [
        "import torch\n",
        "import glob\n",
        "from joblib import Parallel, delayed\n",
        "import pickle\n",
        "from collections import defaultdict\n",
        "import os\n",
        "import numpy as np\n",
        "import re\n",
        "from lxml import etree\n",
        "import stanza\n",
        "from tqdm import tqdm\n",
        "import unicodedata"
      ]
    },
    {
      "cell_type": "markdown",
      "metadata": {
        "id": "SyKyGu5rfsqx"
      },
      "source": [
        "Je récupère le modèle finetuné et je l'applique au corpus général."
      ]
    },
    {
      "cell_type": "code",
      "execution_count": null,
      "metadata": {
        "colab": {
          "base_uri": "https://localhost:8080/"
        },
        "id": "l3Ck5s1-fr6-",
        "outputId": "631ed49c-55bb-4abd-8a3b-ecbc22a46011"
      },
      "outputs": [
        {
          "output_type": "stream",
          "name": "stderr",
          "text": [
            "Some weights of the model checkpoint at UGARIT/grc-alignment were not used when initializing XLMRobertaForMaskedLM: ['psi_cls.decoder.weight', 'psi_cls.bias', 'psi_cls.transform.bias', 'psi_cls.transform.weight']\n",
            "- This IS expected if you are initializing XLMRobertaForMaskedLM from the checkpoint of a model trained on another task or with another architecture (e.g. initializing a BertForSequenceClassification model from a BertForPreTraining model).\n",
            "- This IS NOT expected if you are initializing XLMRobertaForMaskedLM from the checkpoint of a model that you expect to be exactly identical (initializing a BertForSequenceClassification model from a BertForSequenceClassification model).\n",
            "Some weights of the model checkpoint at UGARIT/grc-alignment were not used when initializing XLMRobertaForMaskedLM: ['psi_cls.decoder.weight', 'psi_cls.bias', 'psi_cls.transform.bias', 'psi_cls.transform.weight']\n",
            "- This IS expected if you are initializing XLMRobertaForMaskedLM from the checkpoint of a model trained on another task or with another architecture (e.g. initializing a BertForSequenceClassification model from a BertForPreTraining model).\n",
            "- This IS NOT expected if you are initializing XLMRobertaForMaskedLM from the checkpoint of a model that you expect to be exactly identical (initializing a BertForSequenceClassification model from a BertForSequenceClassification model).\n"
          ]
        },
        {
          "output_type": "execute_result",
          "data": {
            "text/plain": [
              "XLMRobertaForMaskedLM(\n",
              "  (roberta): XLMRobertaModel(\n",
              "    (embeddings): XLMRobertaEmbeddings(\n",
              "      (word_embeddings): Embedding(250002, 768, padding_idx=1)\n",
              "      (position_embeddings): Embedding(514, 768, padding_idx=1)\n",
              "      (token_type_embeddings): Embedding(1, 768)\n",
              "      (LayerNorm): LayerNorm((768,), eps=1e-05, elementwise_affine=True)\n",
              "      (dropout): Dropout(p=0.1, inplace=False)\n",
              "    )\n",
              "    (encoder): XLMRobertaEncoder(\n",
              "      (layer): ModuleList(\n",
              "        (0-11): 12 x XLMRobertaLayer(\n",
              "          (attention): XLMRobertaAttention(\n",
              "            (self): XLMRobertaSelfAttention(\n",
              "              (query): Linear(in_features=768, out_features=768, bias=True)\n",
              "              (key): Linear(in_features=768, out_features=768, bias=True)\n",
              "              (value): Linear(in_features=768, out_features=768, bias=True)\n",
              "              (dropout): Dropout(p=0.1, inplace=False)\n",
              "            )\n",
              "            (output): XLMRobertaSelfOutput(\n",
              "              (dense): Linear(in_features=768, out_features=768, bias=True)\n",
              "              (LayerNorm): LayerNorm((768,), eps=1e-05, elementwise_affine=True)\n",
              "              (dropout): Dropout(p=0.1, inplace=False)\n",
              "            )\n",
              "          )\n",
              "          (intermediate): XLMRobertaIntermediate(\n",
              "            (dense): Linear(in_features=768, out_features=3072, bias=True)\n",
              "            (intermediate_act_fn): GELUActivation()\n",
              "          )\n",
              "          (output): XLMRobertaOutput(\n",
              "            (dense): Linear(in_features=3072, out_features=768, bias=True)\n",
              "            (LayerNorm): LayerNorm((768,), eps=1e-05, elementwise_affine=True)\n",
              "            (dropout): Dropout(p=0.1, inplace=False)\n",
              "          )\n",
              "        )\n",
              "      )\n",
              "    )\n",
              "  )\n",
              "  (lm_head): XLMRobertaLMHead(\n",
              "    (dense): Linear(in_features=768, out_features=768, bias=True)\n",
              "    (layer_norm): LayerNorm((768,), eps=1e-05, elementwise_affine=True)\n",
              "    (decoder): Linear(in_features=768, out_features=250002, bias=True)\n",
              "  )\n",
              ")"
            ]
          },
          "metadata": {},
          "execution_count": 2
        }
      ],
      "source": [
        "import torch\n",
        "from transformers import pipeline\n",
        "from transformers import BertTokenizer, BertModel\n",
        "pipe = pipeline(\"fill-mask\", model=\"UGARIT/grc-alignment\")\n",
        "from transformers import AutoTokenizer, AutoModelForMaskedLM\n",
        "\n",
        "tokenizer = AutoTokenizer.from_pretrained(\"UGARIT/grc-alignment\")\n",
        "model = AutoModelForMaskedLM.from_pretrained(\"UGARIT/grc-alignment\")\n",
        "model.eval()  # Mode évaluation"
      ]
    },
    {
      "cell_type": "code",
      "execution_count": null,
      "metadata": {
        "colab": {
          "base_uri": "https://localhost:8080/"
        },
        "id": "S5Mv0zot-AAd",
        "outputId": "573df624-8888-4f6e-a3fd-4dd602e1b2ed"
      },
      "outputs": [
        {
          "output_type": "stream",
          "name": "stdout",
          "text": [
            "['▁un', '▁exemple', '▁avec', '▁accent', '▁', 'ὡ', 'ἤ']\n"
          ]
        }
      ],
      "source": [
        "print(tokenizer.tokenize(\"un exemple avec accent ὡἤ\"))"
      ]
    },
    {
      "cell_type": "markdown",
      "metadata": {
        "id": "ONyuud1IkX3g"
      },
      "source": [
        "parcours des xml"
      ]
    },
    {
      "cell_type": "code",
      "execution_count": null,
      "metadata": {
        "colab": {
          "base_uri": "https://localhost:8080/"
        },
        "id": "1SSFlUoL-a-R",
        "outputId": "42d2d3e7-84d5-42ab-f068-7de0183faec9"
      },
      "outputs": [
        {
          "output_type": "execute_result",
          "data": {
            "text/plain": [
              "XLMRobertaForMaskedLM(\n",
              "  (roberta): XLMRobertaModel(\n",
              "    (embeddings): XLMRobertaEmbeddings(\n",
              "      (word_embeddings): Embedding(250002, 768, padding_idx=1)\n",
              "      (position_embeddings): Embedding(514, 768, padding_idx=1)\n",
              "      (token_type_embeddings): Embedding(1, 768)\n",
              "      (LayerNorm): LayerNorm((768,), eps=1e-05, elementwise_affine=True)\n",
              "      (dropout): Dropout(p=0.1, inplace=False)\n",
              "    )\n",
              "    (encoder): XLMRobertaEncoder(\n",
              "      (layer): ModuleList(\n",
              "        (0-11): 12 x XLMRobertaLayer(\n",
              "          (attention): XLMRobertaAttention(\n",
              "            (self): XLMRobertaSelfAttention(\n",
              "              (query): Linear(in_features=768, out_features=768, bias=True)\n",
              "              (key): Linear(in_features=768, out_features=768, bias=True)\n",
              "              (value): Linear(in_features=768, out_features=768, bias=True)\n",
              "              (dropout): Dropout(p=0.1, inplace=False)\n",
              "            )\n",
              "            (output): XLMRobertaSelfOutput(\n",
              "              (dense): Linear(in_features=768, out_features=768, bias=True)\n",
              "              (LayerNorm): LayerNorm((768,), eps=1e-05, elementwise_affine=True)\n",
              "              (dropout): Dropout(p=0.1, inplace=False)\n",
              "            )\n",
              "          )\n",
              "          (intermediate): XLMRobertaIntermediate(\n",
              "            (dense): Linear(in_features=768, out_features=3072, bias=True)\n",
              "            (intermediate_act_fn): GELUActivation()\n",
              "          )\n",
              "          (output): XLMRobertaOutput(\n",
              "            (dense): Linear(in_features=3072, out_features=768, bias=True)\n",
              "            (LayerNorm): LayerNorm((768,), eps=1e-05, elementwise_affine=True)\n",
              "            (dropout): Dropout(p=0.1, inplace=False)\n",
              "          )\n",
              "        )\n",
              "      )\n",
              "    )\n",
              "  )\n",
              "  (lm_head): XLMRobertaLMHead(\n",
              "    (dense): Linear(in_features=768, out_features=768, bias=True)\n",
              "    (layer_norm): LayerNorm((768,), eps=1e-05, elementwise_affine=True)\n",
              "    (decoder): Linear(in_features=768, out_features=250002, bias=True)\n",
              "  )\n",
              ")"
            ]
          },
          "metadata": {},
          "execution_count": 3
        }
      ],
      "source": [
        "device = torch.device(\"cuda\" if torch.cuda.is_available() else \"cpu\")\n",
        "model.to(device)"
      ]
    },
    {
      "cell_type": "code",
      "execution_count": null,
      "metadata": {
        "id": "Aqa4Qgjb7Fzb"
      },
      "outputs": [],
      "source": [
        "def extract_body_content_from_xml(file_path):\n",
        "    parser = etree.XMLParser(recover=True)\n",
        "    tree = etree.parse(file_path, parser)\n",
        "    nsmap = tree.getroot().nsmap\n",
        "    default_ns = nsmap.get(None)\n",
        "\n",
        "    if default_ns:\n",
        "        body = tree.find(\".//ns:body\", namespaces={\"ns\": default_ns})\n",
        "    else:\n",
        "        body = tree.find(\".//body\")\n",
        "\n",
        "    if body is None:\n",
        "        raise ValueError(f\"No <body> element found in {file_path}\")\n",
        "\n",
        "    return etree.tostring(body, method=\"text\", encoding=\"unicode\")\n",
        "\n",
        "def is_latin(filename):\n",
        "    return re.search(r'lat\\d+\\.xml$', filename) is not None\n",
        "\n",
        "def is_greek(filename):\n",
        "    return re.search(r'grc\\d+\\.xml$', filename) is not None\n",
        "\n",
        "def extract_texts_from_directory(directory_path):\n",
        "    \"\"\"\n",
        "    Extrait les textes de chaque fichier XML dans le répertoire spécifié et les stocke dans un dictionnaire.\n",
        "    \"\"\"\n",
        "    texts = {}\n",
        "    for root, _, files in os.walk(directory_path):\n",
        "        for file in files:\n",
        "            if is_latin(file) or is_greek(file):\n",
        "                file_path = os.path.join(root, file)\n",
        "                content = extract_body_content_from_xml(file_path)\n",
        "                texts[file] = content\n",
        "    return texts"
      ]
    },
    {
      "cell_type": "code",
      "execution_count": null,
      "metadata": {
        "id": "fv2QXLyhjscq"
      },
      "outputs": [],
      "source": [
        "def tokenize_and_encode_texts(texts, tokenizer):\n",
        "    tokenized_texts = {}\n",
        "    for text_key, text_value in texts.items():\n",
        "        tokens = tokenizer.tokenize(text_value)\n",
        "        # Tronquer à la longueur maximale de 512\n",
        "        tokens = tokens[:512]\n",
        "        input_ids = tokenizer.convert_tokens_to_ids(tokens)\n",
        "        tokenized_texts[text_key] = {\n",
        "            'tokens': tokens,\n",
        "            'input_ids': input_ids\n",
        "        }\n",
        "    return tokenized_texts\n",
        "\n"
      ]
    },
    {
      "cell_type": "code",
      "execution_count": null,
      "metadata": {
        "id": "qjzlJ6jN61BR"
      },
      "outputs": [],
      "source": [
        "greek_corpus = extract_texts_from_directory('/content/canonical-greekLit')"
      ]
    },
    {
      "cell_type": "code",
      "execution_count": null,
      "metadata": {
        "id": "m1LV-ZIUjvaE"
      },
      "outputs": [],
      "source": [
        "latin_corpus = extract_texts_from_directory('/content/canonical-latinLit')"
      ]
    },
    {
      "cell_type": "code",
      "source": [
        "premiere_cle, premiere_valeur = list(latin_corpus.items())[0]\n",
        "print(premiere_cle, premiere_valeur)"
      ],
      "metadata": {
        "id": "N7naWDcxyKjJ"
      },
      "execution_count": null,
      "outputs": []
    },
    {
      "cell_type": "code",
      "execution_count": null,
      "metadata": {
        "colab": {
          "base_uri": "https://localhost:8080/",
          "height": 172,
          "referenced_widgets": [
            "22b09a3169d7443fa8c9321c6874f081",
            "ab45884c851641eb90a1c5a92597fcfe",
            "dec3c2fd1c864df0a5ad918d6ecc44a8",
            "297a88ec4fd04228b23941c52b726fcf",
            "b69d4db4e75042f8b0af68f17bb8054f",
            "d25a80b42f1e4354970531556e49a467",
            "fabb389f80df473bad4de3b17fa726f1",
            "653ed55d871643139ccd354344ca4f90",
            "8bea382edeb346b7948f376b907a34ab",
            "9386f43cc9f943d9b3a4c9ff0ad8e2f1",
            "96fcbaf920ec4567b660251ba0aaab63",
            "1918ac90e2004f749122e72c13fb61b1",
            "497f07d5583d4717979cb6b5fca39b22",
            "de107615fdf24709a9e1534382a534e1",
            "82608bef8b324d439767ddbd621de9f5",
            "de3a53102e4e4ea8876238d690d518bd",
            "5c26d5a7fe9d4d419e259a56f7a71c64",
            "670e00e129604abab314848bf52b9267",
            "222587bd8fae4678b3125105f5392824",
            "1f95feaaaf504a52ae70d6fae38c02a8",
            "8a17bfe24fdd46f4b29e9d556190b378",
            "b370a8537ce847b3bda281fe3ecf118f"
          ]
        },
        "id": "MHlKuAoJ6aHX",
        "outputId": "3749bfc4-55eb-444e-8316-cbdcf99b0e34"
      },
      "outputs": [
        {
          "data": {
            "application/vnd.jupyter.widget-view+json": {
              "model_id": "22b09a3169d7443fa8c9321c6874f081",
              "version_major": 2,
              "version_minor": 0
            },
            "text/plain": [
              "Downloading https://raw.githubusercontent.com/stanfordnlp/stanza-resources/main/resources_1.6.0.json:   0%|   …"
            ]
          },
          "metadata": {},
          "output_type": "display_data"
        },
        {
          "name": "stderr",
          "output_type": "stream",
          "text": [
            "INFO:stanza:Downloading default packages for language: grc (Ancient_Greek) ...\n"
          ]
        },
        {
          "data": {
            "application/vnd.jupyter.widget-view+json": {
              "model_id": "1918ac90e2004f749122e72c13fb61b1",
              "version_major": 2,
              "version_minor": 0
            },
            "text/plain": [
              "Downloading https://huggingface.co/stanfordnlp/stanza-grc/resolve/v1.6.0/models/default.zip:   0%|          | …"
            ]
          },
          "metadata": {},
          "output_type": "display_data"
        },
        {
          "name": "stderr",
          "output_type": "stream",
          "text": [
            "INFO:stanza:Finished downloading models and saved to /root/stanza_resources.\n"
          ]
        }
      ],
      "source": [
        "stanza.download('grc')"
      ]
    },
    {
      "cell_type": "code",
      "execution_count": null,
      "metadata": {
        "colab": {
          "base_uri": "https://localhost:8080/",
          "height": 116,
          "referenced_widgets": [
            "d34a59fb4f2f457199ea4c9b1e889e23",
            "a93708be923c4d3bb009ed102887ffce",
            "97588dd8ac44418b8deef0e374ccc0a6",
            "cf614aa512854b948dbf41b49791df07",
            "9059b23aa06f4679a440b2da727224fc",
            "b379e4193a1c4255bf948ed8c3d6fd11",
            "162a5e12f6d944a784cb455d2048c720",
            "e099da0dfed8426a98d3b177e6cf6352",
            "f92bc8d308be446ebfc73a3568a49582",
            "afff875222f449879f1e85c050e7f60b",
            "b3eb43cbeb60461184eabecc5ee392f8",
            "6bfc66000ad340308294df130c55a7af",
            "0f8c9797757147dcb63ec5ad8cd4bc56",
            "3e890af481244dbdb6f760062bba3586",
            "f4a56f850aef4ce7b1455fddc3996ded",
            "05059aa7dfea48deb5fbd3ebfec1a90e",
            "4f5d150d41a24d678ad1ef1f1a285228",
            "37fc2cf5e19c46518a4816475fe477e6",
            "711ba57432744519a55d054b4d2f33fe",
            "a5b468989d4548c6b7896052c3b07c22",
            "c71de56bafba4aa4a437aec0c050e1ca",
            "fa16b53251d54e31ad225e3171f39603"
          ]
        },
        "id": "Xq_hKlS5j8hR",
        "outputId": "2f51da4d-1d7d-4055-da54-63db5f0b123c"
      },
      "outputs": [
        {
          "output_type": "display_data",
          "data": {
            "text/plain": [
              "Downloading https://raw.githubusercontent.com/stanfordnlp/stanza-resources/main/resources_1.6.0.json:   0%|   …"
            ],
            "application/vnd.jupyter.widget-view+json": {
              "version_major": 2,
              "version_minor": 0,
              "model_id": "d34a59fb4f2f457199ea4c9b1e889e23"
            }
          },
          "metadata": {}
        },
        {
          "output_type": "stream",
          "name": "stderr",
          "text": [
            "INFO:stanza:Downloading default packages for language: la (Latin) ...\n"
          ]
        },
        {
          "output_type": "display_data",
          "data": {
            "text/plain": [
              "Downloading https://huggingface.co/stanfordnlp/stanza-la/resolve/v1.6.0/models/default.zip:   0%|          | 0…"
            ],
            "application/vnd.jupyter.widget-view+json": {
              "version_major": 2,
              "version_minor": 0,
              "model_id": "6bfc66000ad340308294df130c55a7af"
            }
          },
          "metadata": {}
        },
        {
          "output_type": "stream",
          "name": "stderr",
          "text": [
            "INFO:stanza:Finished downloading models and saved to /root/stanza_resources.\n"
          ]
        }
      ],
      "source": [
        "stanza.download('la')"
      ]
    },
    {
      "cell_type": "code",
      "execution_count": null,
      "metadata": {
        "id": "fg3bCn1a7n4p"
      },
      "outputs": [],
      "source": [
        "def process_text(text, nlp):\n",
        "    \"\"\"\n",
        "    Traite le texte avec Stanza pour obtenir à la fois les formes fléchies et les lemmes.\n",
        "    \"\"\"\n",
        "    doc = nlp(text)\n",
        "\n",
        "    processed_text = {\n",
        "        \"lemmas\": [],\n",
        "        \"forms\": []\n",
        "    }\n",
        "\n",
        "    for sentence in doc.sentences:\n",
        "        lemmatized_sentence = []\n",
        "        forms_sentence = []\n",
        "        for word in sentence.words:\n",
        "            lemmatized_sentence.append(word.lemma)\n",
        "            forms_sentence.append(word.text)\n",
        "        processed_text[\"lemmas\"].append(lemmatized_sentence)\n",
        "        processed_text[\"forms\"].append(forms_sentence)\n",
        "\n",
        "    return processed_text\n"
      ]
    },
    {
      "cell_type": "code",
      "execution_count": null,
      "metadata": {
        "colab": {
          "base_uri": "https://localhost:8080/",
          "height": 358,
          "referenced_widgets": [
            "c09634e972944c9db23654507cc7cbe7",
            "3be1141c5fd041a2a8dbc4392dc124bc",
            "492cb6c20ef64073b7b2b098dbe11303",
            "474177504c95461e9813ecdea8b3eabe",
            "38c8c7888d4f4e95911401efb4b5a2a1",
            "76f9dee304ec4a85997c0730b2d0fcf7",
            "f1d5b8523265425a9eec9ae77a699ea6",
            "9568af372a5c43f7b0b83cc332860235",
            "557fe5c4a977456c9cdeefb09278ea5e",
            "467245ec174f4e09a50cfe26fe4ef98b",
            "9b7645d0bad44fcfa5a4314cacb3bc8b"
          ]
        },
        "id": "suT9P2GH7rDb",
        "outputId": "7a7d5bdc-1c88-4880-9186-b01961d1234b"
      },
      "outputs": [
        {
          "name": "stderr",
          "output_type": "stream",
          "text": [
            "INFO:stanza:Checking for updates to resources.json in case models have been updated.  Note: this behavior can be turned off with download_method=None or download_method=DownloadMethod.REUSE_RESOURCES\n"
          ]
        },
        {
          "data": {
            "application/vnd.jupyter.widget-view+json": {
              "model_id": "c09634e972944c9db23654507cc7cbe7",
              "version_major": 2,
              "version_minor": 0
            },
            "text/plain": [
              "Downloading https://raw.githubusercontent.com/stanfordnlp/stanza-resources/main/resources_1.6.0.json:   0%|   …"
            ]
          },
          "metadata": {},
          "output_type": "display_data"
        },
        {
          "name": "stderr",
          "output_type": "stream",
          "text": [
            "INFO:stanza:Loading these models for language: grc (Ancient_Greek):\n",
            "===============================\n",
            "| Processor | Package         |\n",
            "-------------------------------\n",
            "| tokenize  | proiel          |\n",
            "| pos       | proiel_nocharlm |\n",
            "| lemma     | proiel_nocharlm |\n",
            "===============================\n",
            "\n",
            "INFO:stanza:Using device: cuda\n",
            "INFO:stanza:Loading: tokenize\n",
            "INFO:stanza:Loading: pos\n",
            "INFO:stanza:Loading: lemma\n",
            "INFO:stanza:Done loading processors!\n"
          ]
        }
      ],
      "source": [
        "nlp = stanza.Pipeline('grc', processors='tokenize,pos,lemma', use_gpu=True)"
      ]
    },
    {
      "cell_type": "code",
      "execution_count": null,
      "metadata": {
        "colab": {
          "base_uri": "https://localhost:8080/",
          "height": 330,
          "referenced_widgets": [
            "ed014a773d7847f2a4fa415b7192ae24",
            "2c0f3276a2b04085a959ac6756137596",
            "ad9a6b669e4041c791af5e4212696da2",
            "ad1244d422ce4023a62e341d9603751d",
            "880e623ed96a4eb2bbb8656021d04947",
            "0796fd8cfb554f53a6feb1ca5a55d92e",
            "09f5cda8022748fc9348fc3dcfc9a4b5",
            "017371c9c85d41f69ea68ae9ff3af289",
            "a14ebc61f7be48818e70fca19116090e",
            "58643543102e4abb906e354b2ea2ab11",
            "45d15f550dbf4a1dbec29594205ebfd0"
          ]
        },
        "id": "CBD_RulukCrm",
        "outputId": "e772e67a-9b9c-4c7d-9a11-5561f306e88d"
      },
      "outputs": [
        {
          "output_type": "stream",
          "name": "stderr",
          "text": [
            "INFO:stanza:Checking for updates to resources.json in case models have been updated.  Note: this behavior can be turned off with download_method=None or download_method=DownloadMethod.REUSE_RESOURCES\n"
          ]
        },
        {
          "output_type": "display_data",
          "data": {
            "text/plain": [
              "Downloading https://raw.githubusercontent.com/stanfordnlp/stanza-resources/main/resources_1.6.0.json:   0%|   …"
            ],
            "application/vnd.jupyter.widget-view+json": {
              "version_major": 2,
              "version_minor": 0,
              "model_id": "ed014a773d7847f2a4fa415b7192ae24"
            }
          },
          "metadata": {}
        },
        {
          "output_type": "stream",
          "name": "stderr",
          "text": [
            "INFO:stanza:Loading these models for language: la (Latin):\n",
            "=============================\n",
            "| Processor | Package       |\n",
            "-----------------------------\n",
            "| tokenize  | ittb          |\n",
            "| pos       | ittb_nocharlm |\n",
            "| lemma     | ittb_nocharlm |\n",
            "=============================\n",
            "\n",
            "INFO:stanza:Using device: cuda\n",
            "INFO:stanza:Loading: tokenize\n",
            "INFO:stanza:Loading: pos\n",
            "INFO:stanza:Loading: lemma\n",
            "INFO:stanza:Done loading processors!\n"
          ]
        }
      ],
      "source": [
        "nlp_latin = stanza.Pipeline('la', processors='tokenize,pos,lemma', use_gpu=True)"
      ]
    },
    {
      "cell_type": "code",
      "execution_count": null,
      "metadata": {
        "colab": {
          "base_uri": "https://localhost:8080/"
        },
        "id": "EckjXWg0WUPF",
        "outputId": "a7254958-93d2-48f6-80d6-342963ef6bdd"
      },
      "outputs": [
        {
          "name": "stderr",
          "output_type": "stream",
          "text": [
            "Processing: 100%|██████████| 81/81 [04:54<00:00,  3.64s/it]\n"
          ]
        }
      ],
      "source": [
        "import random\n",
        "\n",
        "# 1. Choisir aléatoirement 10% des fichiers\n",
        "filenames = list(greek_corpus.keys())\n",
        "sample_size = int(0.1 * len(filenames))\n",
        "sample_filenames = random.sample(filenames, sample_size)\n",
        "\n",
        "# 2. Effectuer la lemmatisation sur cette portion\n",
        "sample_corpus_processed = {}\n",
        "for filename in tqdm(sample_filenames, desc=\"Processing\"):\n",
        "    sample_corpus_processed[filename] = process_text(greek_corpus[filename], nlp)"
      ]
    },
    {
      "cell_type": "code",
      "execution_count": null,
      "metadata": {
        "colab": {
          "background_save": true,
          "base_uri": "https://localhost:8080/"
        },
        "id": "ZCRN0DFLWLk-",
        "outputId": "cab37b28-14dc-40bb-82ad-00af399e116a"
      },
      "outputs": [
        {
          "name": "stderr",
          "output_type": "stream",
          "text": [
            "Processing: 100%|██████████| 812/812 [1:07:23<00:00,  4.98s/it]\n"
          ]
        }
      ],
      "source": [
        "filenames = list(greek_corpus.keys())\n",
        "\n",
        "# 2. Effectuer la lemmatisation sur cette portion\n",
        "greek_corpus_processed = {}\n",
        "for filename in tqdm(filenames, desc=\"Processing\"):\n",
        "    greek_corpus_processed[filename] = process_text(greek_corpus[filename], nlp)"
      ]
    },
    {
      "cell_type": "code",
      "execution_count": null,
      "metadata": {
        "colab": {
          "base_uri": "https://localhost:8080/"
        },
        "id": "WMHvvqwGkMft",
        "outputId": "ee471589-49d7-4ce1-9033-8d66ff9ca212"
      },
      "outputs": [
        {
          "output_type": "stream",
          "name": "stderr",
          "text": [
            "Processing: 100%|██████████| 427/427 [58:33<00:00,  8.23s/it]\n"
          ]
        }
      ],
      "source": [
        "filenames = list(latin_corpus.keys())\n",
        "\n",
        "# 2. Effectuer la lemmatisation sur cette portion\n",
        "latin_corpus_processed = {}\n",
        "for filename in tqdm(filenames, desc=\"Processing\"):\n",
        "    latin_corpus_processed[filename] = process_text(latin_corpus[filename], nlp_latin)"
      ]
    },
    {
      "cell_type": "code",
      "execution_count": null,
      "metadata": {
        "id": "KkNuQLnsWlVJ"
      },
      "outputs": [],
      "source": [
        "with open('/content/drive/MyDrive/embeddings_save/lemmatized_greek_perseus.pkl', 'wb') as file:\n",
        "    pickle.dump(greek_corpus_processed, file)"
      ]
    },
    {
      "cell_type": "code",
      "execution_count": null,
      "metadata": {
        "id": "2Euo_u2T0xke"
      },
      "outputs": [],
      "source": [
        "with open('/content/drive/MyDrive/embeddings_save/greek_corpus_processed.pkl', 'rb') as file:\n",
        "    greek_corpus_processed = pickle.load(file)"
      ]
    },
    {
      "cell_type": "code",
      "execution_count": null,
      "metadata": {
        "id": "KcHukOaYkj68"
      },
      "outputs": [],
      "source": [
        "with open('/content/drive/MyDrive/embeddings_save/latin_corpus_processed.pkl', 'wb') as file:\n",
        "    pickle.dump(latin_corpus_processed, file)"
      ]
    },
    {
      "cell_type": "code",
      "source": [
        "with open('/content/drive/MyDrive/embeddings_save/latin_corpus_processed.pkl', 'rb') as file:\n",
        "    latin_corpus_processed = pickle.load(file)"
      ],
      "metadata": {
        "id": "ZbIZImgSxsqg"
      },
      "execution_count": null,
      "outputs": []
    },
    {
      "cell_type": "code",
      "execution_count": null,
      "metadata": {
        "id": "QgiUJ2Okgu86"
      },
      "outputs": [],
      "source": [
        "for key, value in list(latin_corpus_processed.items())[:5]:\n",
        "    lemmas = value[\"lemmas\"]\n",
        "    forms = value[\"forms\"]\n",
        "    print(f\"Filename: {key}\")\n",
        "    print(f\"Lemmatized Content: {' '.join(lemmas[0])[:200]}...\")  # Print only first 200 chars of the lemmatized content of the first sentence\n",
        "    print(f\"Forms Content: {' '.join(forms[0])[:200]}...\\n\")  # Print only first 200 chars of the forms content of the first sentence"
      ]
    },
    {
      "cell_type": "code",
      "execution_count": null,
      "metadata": {
        "id": "a_yh-4jiX39m"
      },
      "outputs": [],
      "source": [
        "forms_test = set(form for doc in sample_corpus_processed.values() for sentence in doc[\"forms\"] for form in sentence)"
      ]
    },
    {
      "cell_type": "code",
      "execution_count": null,
      "metadata": {
        "colab": {
          "base_uri": "https://localhost:8080/"
        },
        "id": "fRbSiSYvyln1",
        "outputId": "21d7dc6e-e403-4738-e9b3-20e8655da6f2"
      },
      "outputs": [
        {
          "name": "stdout",
          "output_type": "stream",
          "text": [
            "143901\n"
          ]
        }
      ],
      "source": [
        "print(len(forms_test))"
      ]
    },
    {
      "cell_type": "code",
      "execution_count": null,
      "metadata": {
        "id": "VZF2bxvN9oeF"
      },
      "outputs": [],
      "source": [
        "def split_long_sentences(corpus, tokenizer, max_length=100):\n",
        "    split_corpus = {\"forms\": {}, \"lemmas\": {}}\n",
        "\n",
        "    for filename, text in tqdm(corpus.items(), desc=\"Splitting long sentences\"):\n",
        "        split_forms, split_lemmas = [], []\n",
        "\n",
        "        for forms_sentence, lemmas_sentence in zip(text[\"forms\"], text[\"lemmas\"]):\n",
        "            tokenized_words = [tokenizer.tokenize(word) for word in forms_sentence]\n",
        "            token_lengths = [len(tokens) for tokens in tokenized_words]\n",
        "\n",
        "            sub_sentence_tokens, sub_forms, sub_lemmas = [], [], []\n",
        "            for word, lemma, tokens, token_length in zip(forms_sentence, lemmas_sentence, tokenized_words, token_lengths):\n",
        "                if len(sub_sentence_tokens) + token_length <= max_length:\n",
        "                    sub_forms.append(word)\n",
        "                    sub_lemmas.append(lemma)\n",
        "                    sub_sentence_tokens.extend(tokens)\n",
        "                else:\n",
        "                    split_forms.append(sub_forms)\n",
        "                    split_lemmas.append(sub_lemmas)\n",
        "                    sub_forms, sub_lemmas, sub_sentence_tokens = [word], [lemma], tokens\n",
        "            if sub_forms:\n",
        "                split_forms.append(sub_forms)\n",
        "                split_lemmas.append(sub_lemmas)\n",
        "\n",
        "        split_corpus[\"forms\"][filename] = split_forms\n",
        "        split_corpus[\"lemmas\"][filename] = split_lemmas\n",
        "\n",
        "    return split_corpus\n",
        "\n"
      ]
    },
    {
      "cell_type": "code",
      "execution_count": null,
      "metadata": {
        "id": "J3XKnN7cqzgN"
      },
      "outputs": [],
      "source": [
        "def tokenize_sentence(sentence, tokenizer):\n",
        "    return tokenizer.tokenize(sentence)"
      ]
    },
    {
      "cell_type": "code",
      "execution_count": null,
      "metadata": {
        "colab": {
          "base_uri": "https://localhost:8080/"
        },
        "id": "jIiVCRQE9ram",
        "outputId": "d385e4c2-1f26-44da-cfde-e748eea50c86"
      },
      "outputs": [
        {
          "output_type": "stream",
          "name": "stderr",
          "text": [
            "Splitting long sentences: 100%|██████████| 812/812 [07:53<00:00,  1.72it/s]\n"
          ]
        }
      ],
      "source": [
        "split_greek_corpus = split_long_sentences(greek_corpus_processed, tokenizer, 100)\n",
        "#split_latin_corpus = split_long_sentences(latin_corpus_lemmatized, tokenizer)"
      ]
    },
    {
      "cell_type": "code",
      "execution_count": null,
      "metadata": {
        "colab": {
          "base_uri": "https://localhost:8080/"
        },
        "id": "8OJxsptNZwTh",
        "outputId": "cb5a8382-4d87-4c3a-fa02-4c1cffa52f02"
      },
      "outputs": [
        {
          "output_type": "stream",
          "name": "stderr",
          "text": [
            "Splitting long sentences: 100%|██████████| 427/427 [06:26<00:00,  1.11it/s]\n"
          ]
        }
      ],
      "source": [
        "split_latin_corpus = split_long_sentences(latin_corpus_processed, tokenizer, 100)"
      ]
    },
    {
      "cell_type": "code",
      "source": [],
      "metadata": {
        "id": "1IgwF4sNQGzc"
      },
      "execution_count": null,
      "outputs": []
    },
    {
      "cell_type": "code",
      "source": [
        "with open('/content/drive/MyDrive/embeddings_save/split_latin_corpus_100.pkl', 'rb') as file:\n",
        "    split_latin_corpus = pickle.load(file)\n",
        "with open('/content/drive/MyDrive/embeddings_save/split_greek_corpus_100.pkl', 'rb') as file:\n",
        "    split_greek_corpus = pickle.load(file)"
      ],
      "metadata": {
        "id": "fz80zJBdnSMQ"
      },
      "execution_count": null,
      "outputs": []
    },
    {
      "cell_type": "code",
      "execution_count": null,
      "metadata": {
        "id": "SMkIP53viBbr"
      },
      "outputs": [],
      "source": [
        "for key, value in list(split_greek_corpus[\"forms\"].items())[:5]:\n",
        "    print(f\"Filename: {key}\")\n",
        "    print(f\"Forms Content (first sentence): {' '.join(value[0])[:200]}...\\n\")  # Print only first 200 chars of the forms content of the first sentence\n",
        "\n",
        "print(\"\\n---\\n\")\n",
        "\n",
        "for key, value in list(split_greek_corpus[\"lemmas\"].items())[:5]:\n",
        "    print(f\"Filename: {key}\")\n",
        "    print(f\"Lemmatized Content (first sentence): {' '.join(value[0])[:200]}...\\n\")  # Print only first 200 chars of the lemmatized content of the first sentence"
      ]
    },
    {
      "cell_type": "code",
      "execution_count": null,
      "metadata": {
        "id": "kkrFJLFWbraw"
      },
      "outputs": [],
      "source": [
        "def verify_split_corpus(split_corpus, tokenizer, max_length=510):\n",
        "    # Ici, nous utilisons tqdm pour envelopper l'itération sur les fichiers\n",
        "    for filename in tqdm(split_corpus[\"forms\"].keys(), desc=\"Verifying files\"):\n",
        "        forms_sentences = split_corpus[\"forms\"][filename]\n",
        "        lemmas_sentences = split_corpus[\"lemmas\"][filename]\n",
        "\n",
        "        if len(forms_sentences) != len(lemmas_sentences):\n",
        "            print(f\"Error: Mismatched number of sentences for file {filename}\")\n",
        "            continue\n",
        "\n",
        "        for idx, (forms_sentence, lemmas_sentence) in enumerate(zip(forms_sentences, lemmas_sentences)):\n",
        "            tokenized_sentence = tokenizer.tokenize(\" \".join(forms_sentence))\n",
        "\n",
        "            if len(tokenized_sentence) > max_length:\n",
        "                print(f\"Error: Sentence {idx} in file {filename} exceeds {max_length} tokens.\")\n",
        "\n",
        "            if len(forms_sentence) != len(lemmas_sentence):\n",
        "                print(f\"Error: Mismatched number of words in sentence {idx} of file {filename}\")"
      ]
    },
    {
      "cell_type": "code",
      "execution_count": null,
      "metadata": {
        "colab": {
          "base_uri": "https://localhost:8080/"
        },
        "id": "zG1qho9ebz9u",
        "outputId": "a6e73680-8467-4abf-c0ef-528d9f290124"
      },
      "outputs": [
        {
          "output_type": "stream",
          "name": "stdout",
          "text": [
            "Starting verification...\n"
          ]
        },
        {
          "output_type": "stream",
          "name": "stderr",
          "text": [
            "Verifying files: 100%|██████████| 812/812 [06:02<00:00,  2.24it/s]"
          ]
        },
        {
          "output_type": "stream",
          "name": "stdout",
          "text": [
            "\n",
            "Verification complete!\n"
          ]
        },
        {
          "output_type": "stream",
          "name": "stderr",
          "text": [
            "\n"
          ]
        }
      ],
      "source": [
        "print(\"Starting verification...\")\n",
        "verify_split_corpus(split_greek_corpus, tokenizer)\n",
        "print(\"\\nVerification complete!\")"
      ]
    },
    {
      "cell_type": "code",
      "source": [
        "# Endroit où stocker tous les auteurs disponibles\n",
        "grc_target_authors = [\"tlg0059\",\"tlg0086\",\"tlg1325\", \"tlg0626\",\"tlg1304\",\"tlg0632\",\"tlg0591\",\"tlg0593\",\"tlg1562\",\"tlg1705\",\"tlg0014\",\"tlg0610\"]\n",
        "lat_target_authors = [\"phi0474\", \"phi1017\",\"stoa0255\",\"phi1014\",\"tlg0557\",\"phi0550\",\"tlg0628\",\"tlg0562\",\"phi1254\",\"phi1002\",\"stoa0058\",\"phi0684\",\"phi1212\"]"
      ],
      "metadata": {
        "id": "KGCNx3c7nr3z"
      },
      "execution_count": null,
      "outputs": []
    },
    {
      "cell_type": "code",
      "source": [
        "#Première tranche latine\n",
        "grc_target_authors = [\"tlg0059\",\"tlg0086\",\"tlg1325\", \"tlg0626\",\"tlg1304\",\"tlg0632\",\"tlg0591\",\"tlg0593\",\"tlg1562\",\"tlg1705\",\"tlg0014\",\"tlg0610\"]\n",
        "lat_target_authors = [\"phi0474\", \"phi1017\",\"stoa0255\",\"phi1014\",\"tlg0557\",\"phi0684\"]"
      ],
      "metadata": {
        "id": "93R8eNjSjNk3"
      },
      "execution_count": null,
      "outputs": []
    },
    {
      "cell_type": "code",
      "source": [
        "#Seconde tranche latine\n",
        "grc_target_authors = [\"tlg0059\",\"tlg0086\",\"tlg1325\", \"tlg0626\",\"tlg1304\",\"tlg0632\",\"tlg0591\",\"tlg0593\",\"tlg1562\",\"tlg1705\",\"tlg0014\",\"tlg0610\"]\n",
        "lat_target_authors = [\"phi0550\", \"tlg0628\", \"tlg0562\", \"phi1254\", \"phi1002\", \"stoa0058\", \"phi1212\"]"
      ],
      "metadata": {
        "id": "qz2gD-ynyMVi"
      },
      "execution_count": null,
      "outputs": []
    },
    {
      "cell_type": "code",
      "source": [
        "filtered_lat_corpus = {}\n",
        "filtered_grc_corpus = {}\n",
        "for categorie in split_latin_corpus:\n",
        "    filtered_lat_corpus[categorie] = {fichier: phrases for fichier, phrases in split_latin_corpus[categorie].items() if any(substring in fichier for substring in lat_target_authors)}\n",
        "for categorie in split_greek_corpus:\n",
        "    filtered_grc_corpus[categorie] = {fichier: phrases for fichier, phrases in split_greek_corpus[categorie].items() if any(substring in fichier for substring in grc_target_authors)}"
      ],
      "metadata": {
        "id": "ff8NOOImpn_x"
      },
      "execution_count": null,
      "outputs": []
    },
    {
      "cell_type": "code",
      "source": [
        "num_entries_to_show = 1  # Changer cette valeur selon le nombre d'entrées que vous souhaitez voir\n",
        "\n",
        "for categorie, contenu in filtered_lat_corpus.items():\n",
        "    print(f\"Catégorie: {categorie}\")\n",
        "\n",
        "    counter = 0\n",
        "    for fichier, phrases in contenu.items():\n",
        "        print(f\"Nom du fichier: {fichier}\")\n",
        "        print(phrases)\n",
        "\n",
        "        counter += 1\n",
        "        if counter >= num_entries_to_show:\n",
        "            break\n",
        "\n",
        "    print(\"-\" * 40)"
      ],
      "metadata": {
        "id": "TUgSRlhPqg2d"
      },
      "execution_count": null,
      "outputs": []
    },
    {
      "cell_type": "code",
      "execution_count": null,
      "metadata": {
        "id": "rtBH4EsSLlq0"
      },
      "outputs": [],
      "source": [
        "import multiprocessing\n",
        "\n",
        "def tokenize_batch(args):\n",
        "    batch_sentences_forms, batch_sentences_lemmas, tokenizer = args\n",
        "    # Convertir les listes de mots en phrases pour le tokénisateur\n",
        "    batch_sentences = [\" \".join(sentence) for sentence in batch_sentences_forms]\n",
        "\n",
        "    encoding = tokenizer(batch_sentences, truncation=True, padding='longest', return_tensors=\"pt\", max_length=100)\n",
        "\n",
        "    batch_tokens = []\n",
        "    batch_origin_indices = []\n",
        "    batch_subtoken_lemmas = [] # <-- Liste pour stocker les lemmes associés aux subtokens\n",
        "\n",
        "    for sent_forms, sent_lemmas in zip(batch_sentences_forms, batch_sentences_lemmas):\n",
        "        tokens = []\n",
        "        origin_indices = []\n",
        "        subtoken_lemmas = []  # <-- Liste temporaire pour cette phrase\n",
        "        for idx, (form, lemma) in enumerate(zip(sent_forms, sent_lemmas)):\n",
        "            word_tokens = tokenizer.tokenize(form)\n",
        "            tokens.extend(word_tokens)\n",
        "            origin_indices.extend([idx] * len(word_tokens))\n",
        "            subtoken_lemmas.extend([lemma] * len(word_tokens))  # <-- Associez chaque subtoken au lemme\n",
        "        batch_tokens.append(tokens)\n",
        "        batch_origin_indices.append(origin_indices)\n",
        "        batch_subtoken_lemmas.append(subtoken_lemmas)  # <-- Ajoutez la liste temporaire à la liste globale\n",
        "\n",
        "    return encoding[\"input_ids\"].tolist(), encoding[\"attention_mask\"].tolist(), batch_sentences, batch_tokens, batch_origin_indices, batch_subtoken_lemmas  # <-- Ajoutez batch_subtoken_lemmas à la sortie\n",
        "\n",
        "def batched_tokenization(corpus, tokenizer, batch_size):\n",
        "    all_input_ids = []\n",
        "    all_attention_masks = []\n",
        "    all_sentence_tokens = []\n",
        "    all_origin_indices = []\n",
        "    all_subtoken_lemmas = []  # Nouvelle liste pour stocker les lemmes associés aux subtokens\n",
        "\n",
        "    # Génération d'une liste de toutes les phrases du corpus pour les formes et les lemmes\n",
        "    sentences_forms = [sentence for text in corpus[\"forms\"].values() for sentence in text]\n",
        "    sentences_lemmas = [sentence for text in corpus[\"lemmas\"].values() for sentence in text]\n",
        "\n",
        "    # Assurez-vous que les formes et les lemmes sont alignés\n",
        "    assert len(sentences_forms) == len(sentences_lemmas), \"Mismatch between forms and lemmas sentences.\"\n",
        "\n",
        "    # Préparation des batches de phrases\n",
        "    batches = [(sentences_forms[i:i+batch_size], sentences_lemmas[i:i+batch_size], tokenizer) for i in range(0, len(sentences_forms), batch_size)]\n",
        "\n",
        "    with multiprocessing.Pool(processes=multiprocessing.cpu_count()) as pool:\n",
        "        for input_ids, attention_masks, batch_sents, batch_tokens, batch_origin_inds, batch_lemmas in tqdm(pool.imap_unordered(func=tokenize_batch, iterable=batches), total=len(batches), desc=\"Tokenizing sentences\"):\n",
        "            all_input_ids.extend(input_ids)\n",
        "            all_attention_masks.extend(attention_masks)\n",
        "            all_sentence_tokens.extend(batch_tokens)\n",
        "            all_origin_indices.extend(batch_origin_inds)\n",
        "            all_subtoken_lemmas.extend(batch_lemmas)  # Ajoutez les lemmes associés aux subtokens à la liste globale\n",
        "\n",
        "    return all_input_ids, all_attention_masks, all_sentence_tokens, all_origin_indices, all_subtoken_lemmas  # Retournez all_subtoken_lemmas\n",
        "\n"
      ]
    },
    {
      "cell_type": "code",
      "execution_count": null,
      "metadata": {
        "colab": {
          "base_uri": "https://localhost:8080/"
        },
        "id": "W4IDgJufd4yX",
        "outputId": "fa25fb81-0702-4087-86ba-0b57e02d101c"
      },
      "outputs": [
        {
          "output_type": "stream",
          "name": "stderr",
          "text": [
            "Tokenizing sentences: 100%|██████████| 177/177 [00:47<00:00,  3.74it/s]\n"
          ]
        }
      ],
      "source": [
        "greek_all_input_ids, greek_all_attention_masks, greek_all_sentences_tokens, greek_all_origin_indices, greek_all_subtoken_lemmas = batched_tokenization(filtered_grc_corpus, tokenizer, batch_size=512)"
      ]
    },
    {
      "cell_type": "code",
      "source": [
        "latin_all_input_ids, latin_all_attention_masks, latin_all_sentences_tokens, latin_all_origin_indices, latin_all_subtoken_lemmas = batched_tokenization(filtered_lat_corpus, tokenizer, batch_size=512)"
      ],
      "metadata": {
        "colab": {
          "base_uri": "https://localhost:8080/"
        },
        "id": "Hd7ZYCUqsAFB",
        "outputId": "9e9b8981-c82f-442a-9f63-1d50f217ec4e"
      },
      "execution_count": null,
      "outputs": [
        {
          "output_type": "stream",
          "name": "stderr",
          "text": [
            "Tokenizing sentences: 100%|██████████| 63/63 [00:19<00:00,  3.27it/s]\n"
          ]
        }
      ]
    },
    {
      "cell_type": "code",
      "execution_count": null,
      "metadata": {
        "colab": {
          "base_uri": "https://localhost:8080/"
        },
        "id": "84AWweJuesEf",
        "outputId": "1c249b77-2167-4259-cc1e-f7ffdb6c118e"
      },
      "outputs": [
        {
          "output_type": "stream",
          "name": "stdout",
          "text": [
            "Sample input IDs: [[101, 479, 10781, 12649, 58317, 468, 15233, 17198, 31712, 480, 13140, 17762, 484, 31712, 472, 21263, 31712, 10649, 465, 14669, 29613, 467, 99509, 23788, 12649, 465, 31625, 53428, 19491, 44306, 10484, 483, 14669, 87276, 58281, 12649, 469, 29223, 12526, 10487, 480, 19582, 29223, 14669, 27393, 19038, 12649, 10356, 475, 15233, 70076, 15860, 117, 468, 12526, 110568, 16099, 479, 14669, 63444, 485, 34359, 16146, 35790, 51650, 480, 22360, 15751, 484, 31712, 465, 14669, 70076, 117, 102, 0, 0, 0, 0, 0, 0, 0, 0, 0, 0, 0, 0, 0, 0, 0, 0, 0, 0, 0, 0, 0, 0, 0, 0, 0, 0, 0, 0, 0, 0, 0, 0, 0, 0, 0, 0, 0, 0, 0, 0, 0, 0, 0, 0, 0, 0, 0, 0, 0, 0, 0, 0, 0, 0, 0, 0, 0, 0, 0, 0, 0, 0, 0, 0, 0, 0, 0, 0, 0, 0, 0, 0, 0, 0, 0, 0, 0, 0, 0, 0, 0, 0, 0, 0, 0, 0, 0, 0, 0, 0, 0, 0, 0, 0, 0, 0, 0, 0, 0, 0, 0, 0, 0, 0, 0, 0, 0, 0], [101, 10487, 484, 21263, 465, 43140, 62913, 33947, 10358, 10487, 474, 13140, 20660, 12649, 10358, 10487, 471, 84236, 14669, 117, 480, 60846, 15233, 27835, 10484, 102, 0, 0, 0, 0, 0, 0, 0, 0, 0, 0, 0, 0, 0, 0, 0, 0, 0, 0, 0, 0, 0, 0, 0, 0, 0, 0, 0, 0, 0, 0, 0, 0, 0, 0, 0, 0, 0, 0, 0, 0, 0, 0, 0, 0, 0, 0, 0, 0, 0, 0, 0, 0, 0, 0, 0, 0, 0, 0, 0, 0, 0, 0, 0, 0, 0, 0, 0, 0, 0, 0, 0, 0, 0, 0, 0, 0, 0, 0, 0, 0, 0, 0, 0, 0, 0, 0, 0, 0, 0, 0, 0, 0, 0, 0, 0, 0, 0, 0, 0, 0, 0, 0, 0, 0, 0, 0, 0, 0, 0, 0, 0, 0, 0, 0, 0, 0, 0, 0, 0, 0, 0, 0, 0, 0, 0, 0, 0, 0, 0, 0, 0, 0, 0, 0, 0, 0, 0, 0, 0, 0, 0, 0, 0, 0, 0, 0, 0, 0, 0, 0, 0, 0, 0, 0, 0, 0, 0], [101, 474, 13140, 17198, 62152, 87728, 10487, 468, 12526, 24767, 19038, 15751, 91452, 117, 102, 0, 0, 0, 0, 0, 0, 0, 0, 0, 0, 0, 0, 0, 0, 0, 0, 0, 0, 0, 0, 0, 0, 0, 0, 0, 0, 0, 0, 0, 0, 0, 0, 0, 0, 0, 0, 0, 0, 0, 0, 0, 0, 0, 0, 0, 0, 0, 0, 0, 0, 0, 0, 0, 0, 0, 0, 0, 0, 0, 0, 0, 0, 0, 0, 0, 0, 0, 0, 0, 0, 0, 0, 0, 0, 0, 0, 0, 0, 0, 0, 0, 0, 0, 0, 0, 0, 0, 0, 0, 0, 0, 0, 0, 0, 0, 0, 0, 0, 0, 0, 0, 0, 0, 0, 0, 0, 0, 0, 0, 0, 0, 0, 0, 0, 0, 0, 0, 0, 0, 0, 0, 0, 0, 0, 0, 0, 0, 0, 0, 0, 0, 0, 0, 0, 0, 0, 0, 0, 0, 0, 0, 0, 0, 0, 0, 0, 0, 0, 0, 0, 0, 0, 0, 0, 0, 0, 0, 0, 0, 0, 0, 0, 0, 0, 0, 0, 0, 0], [101, 475, 31712, 87728, 468, 111010, 485, 106619, 50379, 43202, 217, 117, 480, 22360, 39763, 102, 0, 0, 0, 0, 0, 0, 0, 0, 0, 0, 0, 0, 0, 0, 0, 0, 0, 0, 0, 0, 0, 0, 0, 0, 0, 0, 0, 0, 0, 0, 0, 0, 0, 0, 0, 0, 0, 0, 0, 0, 0, 0, 0, 0, 0, 0, 0, 0, 0, 0, 0, 0, 0, 0, 0, 0, 0, 0, 0, 0, 0, 0, 0, 0, 0, 0, 0, 0, 0, 0, 0, 0, 0, 0, 0, 0, 0, 0, 0, 0, 0, 0, 0, 0, 0, 0, 0, 0, 0, 0, 0, 0, 0, 0, 0, 0, 0, 0, 0, 0, 0, 0, 0, 0, 0, 0, 0, 0, 0, 0, 0, 0, 0, 0, 0, 0, 0, 0, 0, 0, 0, 0, 0, 0, 0, 0, 0, 0, 0, 0, 0, 0, 0, 0, 0, 0, 0, 0, 0, 0, 0, 0, 0, 0, 0, 0, 0, 0, 0, 0, 0, 0, 0, 0, 0, 0, 0, 0, 0, 0, 0, 0, 0, 0, 0, 0, 0], [101, 471, 84236, 12526, 87728, 468, 111010, 479, 14669, 12850, 469, 17762, 10487, 484, 14669, 83494, 12649, 217, 102, 0, 0, 0, 0, 0, 0, 0, 0, 0, 0, 0, 0, 0, 0, 0, 0, 0, 0, 0, 0, 0, 0, 0, 0, 0, 0, 0, 0, 0, 0, 0, 0, 0, 0, 0, 0, 0, 0, 0, 0, 0, 0, 0, 0, 0, 0, 0, 0, 0, 0, 0, 0, 0, 0, 0, 0, 0, 0, 0, 0, 0, 0, 0, 0, 0, 0, 0, 0, 0, 0, 0, 0, 0, 0, 0, 0, 0, 0, 0, 0, 0, 0, 0, 0, 0, 0, 0, 0, 0, 0, 0, 0, 0, 0, 0, 0, 0, 0, 0, 0, 0, 0, 0, 0, 0, 0, 0, 0, 0, 0, 0, 0, 0, 0, 0, 0, 0, 0, 0, 0, 0, 0, 0, 0, 0, 0, 0, 0, 0, 0, 0, 0, 0, 0, 0, 0, 0, 0, 0, 0, 0, 0, 0, 0, 0, 0, 0, 0, 0, 0, 0, 0, 0, 0, 0, 0, 0, 0, 0, 0, 0, 0, 0, 0]]\n",
            "Sample attention masks: [[1, 1, 1, 1, 1, 1, 1, 1, 1, 1, 1, 1, 1, 1, 1, 1, 1, 1, 1, 1, 1, 1, 1, 1, 1, 1, 1, 1, 1, 1, 1, 1, 1, 1, 1, 1, 1, 1, 1, 1, 1, 1, 1, 1, 1, 1, 1, 1, 1, 1, 1, 1, 1, 1, 1, 1, 1, 1, 1, 1, 1, 1, 1, 1, 1, 1, 1, 1, 1, 1, 1, 1, 1, 1, 1, 0, 0, 0, 0, 0, 0, 0, 0, 0, 0, 0, 0, 0, 0, 0, 0, 0, 0, 0, 0, 0, 0, 0, 0, 0, 0, 0, 0, 0, 0, 0, 0, 0, 0, 0, 0, 0, 0, 0, 0, 0, 0, 0, 0, 0, 0, 0, 0, 0, 0, 0, 0, 0, 0, 0, 0, 0, 0, 0, 0, 0, 0, 0, 0, 0, 0, 0, 0, 0, 0, 0, 0, 0, 0, 0, 0, 0, 0, 0, 0, 0, 0, 0, 0, 0, 0, 0, 0, 0, 0, 0, 0, 0, 0, 0, 0, 0, 0, 0, 0, 0, 0, 0, 0, 0, 0, 0, 0], [1, 1, 1, 1, 1, 1, 1, 1, 1, 1, 1, 1, 1, 1, 1, 1, 1, 1, 1, 1, 1, 1, 1, 1, 1, 1, 0, 0, 0, 0, 0, 0, 0, 0, 0, 0, 0, 0, 0, 0, 0, 0, 0, 0, 0, 0, 0, 0, 0, 0, 0, 0, 0, 0, 0, 0, 0, 0, 0, 0, 0, 0, 0, 0, 0, 0, 0, 0, 0, 0, 0, 0, 0, 0, 0, 0, 0, 0, 0, 0, 0, 0, 0, 0, 0, 0, 0, 0, 0, 0, 0, 0, 0, 0, 0, 0, 0, 0, 0, 0, 0, 0, 0, 0, 0, 0, 0, 0, 0, 0, 0, 0, 0, 0, 0, 0, 0, 0, 0, 0, 0, 0, 0, 0, 0, 0, 0, 0, 0, 0, 0, 0, 0, 0, 0, 0, 0, 0, 0, 0, 0, 0, 0, 0, 0, 0, 0, 0, 0, 0, 0, 0, 0, 0, 0, 0, 0, 0, 0, 0, 0, 0, 0, 0, 0, 0, 0, 0, 0, 0, 0, 0, 0, 0, 0, 0, 0, 0, 0, 0, 0, 0, 0], [1, 1, 1, 1, 1, 1, 1, 1, 1, 1, 1, 1, 1, 1, 1, 0, 0, 0, 0, 0, 0, 0, 0, 0, 0, 0, 0, 0, 0, 0, 0, 0, 0, 0, 0, 0, 0, 0, 0, 0, 0, 0, 0, 0, 0, 0, 0, 0, 0, 0, 0, 0, 0, 0, 0, 0, 0, 0, 0, 0, 0, 0, 0, 0, 0, 0, 0, 0, 0, 0, 0, 0, 0, 0, 0, 0, 0, 0, 0, 0, 0, 0, 0, 0, 0, 0, 0, 0, 0, 0, 0, 0, 0, 0, 0, 0, 0, 0, 0, 0, 0, 0, 0, 0, 0, 0, 0, 0, 0, 0, 0, 0, 0, 0, 0, 0, 0, 0, 0, 0, 0, 0, 0, 0, 0, 0, 0, 0, 0, 0, 0, 0, 0, 0, 0, 0, 0, 0, 0, 0, 0, 0, 0, 0, 0, 0, 0, 0, 0, 0, 0, 0, 0, 0, 0, 0, 0, 0, 0, 0, 0, 0, 0, 0, 0, 0, 0, 0, 0, 0, 0, 0, 0, 0, 0, 0, 0, 0, 0, 0, 0, 0, 0], [1, 1, 1, 1, 1, 1, 1, 1, 1, 1, 1, 1, 1, 1, 1, 1, 0, 0, 0, 0, 0, 0, 0, 0, 0, 0, 0, 0, 0, 0, 0, 0, 0, 0, 0, 0, 0, 0, 0, 0, 0, 0, 0, 0, 0, 0, 0, 0, 0, 0, 0, 0, 0, 0, 0, 0, 0, 0, 0, 0, 0, 0, 0, 0, 0, 0, 0, 0, 0, 0, 0, 0, 0, 0, 0, 0, 0, 0, 0, 0, 0, 0, 0, 0, 0, 0, 0, 0, 0, 0, 0, 0, 0, 0, 0, 0, 0, 0, 0, 0, 0, 0, 0, 0, 0, 0, 0, 0, 0, 0, 0, 0, 0, 0, 0, 0, 0, 0, 0, 0, 0, 0, 0, 0, 0, 0, 0, 0, 0, 0, 0, 0, 0, 0, 0, 0, 0, 0, 0, 0, 0, 0, 0, 0, 0, 0, 0, 0, 0, 0, 0, 0, 0, 0, 0, 0, 0, 0, 0, 0, 0, 0, 0, 0, 0, 0, 0, 0, 0, 0, 0, 0, 0, 0, 0, 0, 0, 0, 0, 0, 0, 0, 0], [1, 1, 1, 1, 1, 1, 1, 1, 1, 1, 1, 1, 1, 1, 1, 1, 1, 1, 1, 0, 0, 0, 0, 0, 0, 0, 0, 0, 0, 0, 0, 0, 0, 0, 0, 0, 0, 0, 0, 0, 0, 0, 0, 0, 0, 0, 0, 0, 0, 0, 0, 0, 0, 0, 0, 0, 0, 0, 0, 0, 0, 0, 0, 0, 0, 0, 0, 0, 0, 0, 0, 0, 0, 0, 0, 0, 0, 0, 0, 0, 0, 0, 0, 0, 0, 0, 0, 0, 0, 0, 0, 0, 0, 0, 0, 0, 0, 0, 0, 0, 0, 0, 0, 0, 0, 0, 0, 0, 0, 0, 0, 0, 0, 0, 0, 0, 0, 0, 0, 0, 0, 0, 0, 0, 0, 0, 0, 0, 0, 0, 0, 0, 0, 0, 0, 0, 0, 0, 0, 0, 0, 0, 0, 0, 0, 0, 0, 0, 0, 0, 0, 0, 0, 0, 0, 0, 0, 0, 0, 0, 0, 0, 0, 0, 0, 0, 0, 0, 0, 0, 0, 0, 0, 0, 0, 0, 0, 0, 0, 0, 0, 0, 0]]\n",
            "Sample sentence tokens: [['ο', 'με', '##ν', 'εν', 'δ', '##η', '##λ', '##ω', 'π', '##α', '##ρα', 'τ', '##ω', 'θ', '##ε', '##ω', 'την', 'α', '##υ', '##του', 'γ', '##νω', '##μη', '##ν', 'α', '##πο', '##φη', '##να', '##μενο', '##ς', 'σ', '##υ', '##νε', '##γραψε', '##ν', 'ε', '##π', '##ι', 'το', 'π', '##ρο', '##π', '##υ', '##λα', '##ιο', '##ν', 'του', 'λ', '##η', '##τω', '##ου', ',', 'δ', '##ι', '##ελ', '##ων', 'ο', '##υ', '##χ', 'υ', '##πα', '##ρ', '##χο', '##ντα', 'π', '##αν', '##τα', 'τ', '##ω', 'α', '##υ', '##τω', ','], ['το', 'τ', '##ε', 'α', '##γα', '##θ', '##ον', 'και', 'το', 'κ', '##α', '##λο', '##ν', 'και', 'το', 'η', '##δ', '##υ', ',', 'π', '##οι', '##η', '##σα', '##ς'], ['κ', '##α', '##λ', '##λι', '##στον', 'το', 'δ', '##ι', '##κα', '##ιο', '##τα', '##τον', ','], ['λ', '##ω', '##στον', 'δ', '##ʼ', 'υ', '##για', '##ινε', '##ιν', '·', ',', 'π', '##αν', '##των'], ['η', '##δ', '##ι', '##στον', 'δ', '##ʼ', 'ο', '##υ', 'τις', 'ε', '##ρα', 'το', 'τ', '##υ', '##χει', '##ν', '·']]\n",
            "Sample sentence tokens: [['ὁ', 'μέν', 'μέν', 'ἐν', 'Δῆλος', 'Δῆλος', 'Δῆλος', 'Δῆλος', 'παρά', 'παρά', 'παρά', 'ὁ', 'ὁ', 'θεός', 'θεός', 'θεός', 'ὁ', 'αὐτός', 'αὐτός', 'αὐτός', 'γνώμη', 'γνώμη', 'γνώμη', 'γνώμη', 'ἀποφήνω', 'ἀποφήνω', 'ἀποφήνω', 'ἀποφήνω', 'ἀποφήνω', 'ἀποφήνω', 'συγγράφω', 'συγγράφω', 'συγγράφω', 'συγγράφω', 'συγγράφω', 'ἐπί', 'ἐπί', 'ἐπί', 'ὁ', 'προπύλαιος', 'προπύλαιος', 'προπύλαιος', 'προπύλαιος', 'προπύλαιος', 'προπύλαιος', 'προπύλαιος', 'ὁ', 'Λητόος', 'Λητόος', 'Λητόος', 'Λητόος', 'Λητόος', 'διαιρέω', 'διαιρέω', 'διαιρέω', 'διαιρέω', 'οὐ', 'οὐ', 'οὐ', 'ὑπάρχω', 'ὑπάρχω', 'ὑπάρχω', 'ὑπάρχω', 'ὑπάρχω', 'πᾶς', 'πᾶς', 'πᾶς', 'ὁ', 'ὁ', 'αὐτός', 'αὐτός', 'αὐτός', 'αὐτός'], ['ὁ', 'τε', 'τε', 'ἀγαθός', 'ἀγαθός', 'ἀγαθός', 'ἀγαθός', 'καί', 'ὁ', 'καλός', 'καλός', 'καλός', 'καλός', 'καί', 'ὁ', 'ἡδύ,', 'ἡδύ,', 'ἡδύ,', 'ἡδύ,', 'ποιέω', 'ποιέω', 'ποιέω', 'ποιέω', 'ποιέω'], ['καλός', 'καλός', 'καλός', 'καλός', 'καλός', 'ὁ', 'δίκαιος', 'δίκαιος', 'δίκαιος', 'δίκαιος', 'δίκαιος', 'δίκαιος', 'δίκαιος'], ['λῷστος', 'λῷστος', 'λῷστος', 'δή', 'δή', 'ὑγιαίνω', 'ὑγιαίνω', 'ὑγιαίνω', 'ὑγιαίνω', 'ὑγιαίνω', 'ὑγιαίνω', 'πᾶς', 'πᾶς', 'πᾶς'], ['ἥδιστος', 'ἥδιστος', 'ἥδιστος', 'ἥδιστος', 'δή', 'δή', 'ὅς', 'ὅς', 'τὶς', 'λέγω', 'λέγω', 'ὁ', 'τυγχάνω', 'τυγχάνω', 'τυγχάνω', 'τυγχάνω', 'τυγχάνω']]\n"
          ]
        }
      ],
      "source": [
        "print(\"Sample input IDs:\", greek_all_input_ids[:5])  # Affiche les 5 premiers éléments\n",
        "print(\"Sample attention masks:\", greek_all_attention_masks[:5])  # Affiche les 5 premiers éléments\n",
        "print(\"Sample sentence tokens:\", greek_all_sentences_tokens[:5])  # Affiche les 5 premiers éléments\n",
        "print(\"Sample sentence tokens:\", greek_all_subtoken_lemmas[:5])"
      ]
    },
    {
      "cell_type": "code",
      "source": [
        "!gdown 1-ArRYmyJSMRjhjoZSKy7rpYZWwOvHtkx\n",
        "!gdown 1-QBR9py7M6Md4nUOKpbdDBZEZw8lwujA\n",
        "!gdown 1-GU2O9ONXMBffjR3Rga1kvG_Lx-ehf81\n",
        "!gdown 1-DA0ablAwlEnL74OB_CfZaEMIuto3Gxp\n",
        "!gdown 1-L4TR4hoeA6k-ICHljInEAnmX0pjmsOU\n",
        "\n",
        "!gdown 1-s8f3A1q-OrrngiYLnlQoUuW-YFstOXb\n",
        "!gdown 1-YGFNFdKJi18z7EcwfVBxuWY4du27NcM\n",
        "!gdown 1-alBaz4kPMHgCaXYUADXdOC6x1Tzj1bP\n",
        "!gdown 1-rUO6ZPBdCkSLx9FzKZOrDwL3haDcQc8\n",
        "!gdown 1-ovYsEBXIrnA7hu5VSNnwwTnplFVLxHx"
      ],
      "metadata": {
        "id": "Jx_hoLYTQSq-"
      },
      "execution_count": null,
      "outputs": []
    },
    {
      "cell_type": "code",
      "source": [
        "with open(\"/content/drive/MyDrive/embeddings_save/greek_all_input_ids_100.pkl\", \"rb\") as f:\n",
        "    greek_all_input_ids = pickle.load(f)\n",
        "with open(\"/content/drive/MyDrive/embeddings_save/greek_attention_masks_100.pkl\", \"rb\") as f:\n",
        "    greek_all_attention_masks = pickle.load(f)\n",
        "with open(\"/content/drive/MyDrive/embeddings_save/greek_all_sentences_tokens_100.pkl\", \"rb\") as f:\n",
        "    greek_all_sentences_tokens = pickle.load(f)\n",
        "with open(\"/content/drive/MyDrive/embeddings_save/greek_all_origin_indices_100.pkl\", \"rb\") as f:\n",
        "    greek_all_origin_indices = pickle.load(f)\n",
        "with open(\"/content/drive/MyDrive/embeddings_save/greek_all_subtoken_lemmas_100.pkl\", \"rb\") as f:\n",
        "    greek_all_subtoken_lemmas = pickle.load(f)"
      ],
      "metadata": {
        "id": "peCx1esmuHH7"
      },
      "execution_count": null,
      "outputs": []
    },
    {
      "cell_type": "code",
      "source": [
        "with open(\"/content/drive/MyDrive/embeddings_save/latin_all_input_ids_100.pkl\", \"rb\") as f:\n",
        "    latin_all_input_ids = pickle.load(f)\n",
        "with open(\"/content/drive/MyDrive/embeddings_save/latin_attention_masks_100.pkl\", \"rb\") as f:\n",
        "    latin_all_attention_masks = pickle.load(f)\n",
        "with open(\"/content/drive/MyDrive/embeddings_save/latin_all_sentences_tokens_100.pkl\", \"rb\") as f:\n",
        "    latin_all_sentences_tokens = pickle.load(f)\n",
        "with open(\"/content/drive/MyDrive/embeddings_save/latin_all_origin_indices_100.pkl\", \"rb\") as f:\n",
        "    latin_all_origin_indices = pickle.load(f)\n",
        "with open(\"/content/drive/MyDrive/embeddings_save/latin_all_subtoken_lemmas_100.pkl\", \"rb\") as f:\n",
        "    latin_all_subtoken_lemmas = pickle.load(f)"
      ],
      "metadata": {
        "id": "AVUhBlZ_uqx-"
      },
      "execution_count": null,
      "outputs": []
    },
    {
      "cell_type": "code",
      "execution_count": null,
      "metadata": {
        "id": "qlOrEIA3DKkc"
      },
      "outputs": [],
      "source": [
        "import numpy as np\n",
        "\n",
        "def compute_weights(length):\n",
        "    # Création d'un array avec les positions des tokens\n",
        "    positions = np.arange(length)\n",
        "\n",
        "    # Calcul de la position du milieu\n",
        "    mid_position = length / 2.0\n",
        "\n",
        "    # Paramètre de mise à l'échelle pour contrôler la largeur de la fonction gaussienne\n",
        "    sigma = length / 6.0\n",
        "\n",
        "    # Calcul des poids en utilisant une fonction gaussienne\n",
        "    weights = np.exp(-(positions - mid_position)**2 / (2 * sigma**2))\n",
        "\n",
        "    # Normalisation des poids pour qu'ils somment à 1\n",
        "    weights /= weights.sum()\n",
        "\n",
        "    return weights\n"
      ]
    },
    {
      "cell_type": "code",
      "source": [
        "words_to_check = ['Ἀρχίαδος', 'ἀποκηρύσσω', 'περιλείματ']\n",
        "\n",
        "model = model.to('cuda')\n",
        "\n",
        "# Tokenize et obtenez les embeddings pour chaque mot\n",
        "word_embeddings = {}\n",
        "for word in words_to_check:\n",
        "    inputs = tokenizer(word, return_tensors=\"pt\", padding='max_length', truncation=True, max_length=10)\n",
        "    inputs = {key: value.to('cuda') for key, value in inputs.items()}\n",
        "    with torch.no_grad():\n",
        "      outputs = model(**inputs, output_hidden_states=True)\n",
        "      last_hidden_state = outputs.hidden_states[-1]\n",
        "      word_embeddings[word] = last_hidden_state.squeeze(0)"
      ],
      "metadata": {
        "id": "MR8KyMKI13X0"
      },
      "execution_count": null,
      "outputs": []
    },
    {
      "cell_type": "code",
      "source": [
        "# Afficher les embeddings pour chaque token de chaque mot\n",
        "for word, embeddings in word_embeddings.items():\n",
        "    print(f\"Embeddings pour le mot '{word}':\")\n",
        "    tokens = tokenizer.tokenize(word)\n",
        "    for token, embed in zip(tokens, embeddings):\n",
        "        print(f\"Token: {token}, Embedding: {embed[:5]}...\")  # affiche seulement les 5 premières dimensions pour la lisibilité\n",
        "    print(\"\\n\")"
      ],
      "metadata": {
        "id": "RpDkZcUT240f"
      },
      "execution_count": null,
      "outputs": []
    },
    {
      "cell_type": "code",
      "execution_count": null,
      "metadata": {
        "id": "OuTw7_M3LMyV"
      },
      "outputs": [],
      "source": [
        "def get_contextual_embeddings_without_weights(processed_texts, model, tokenizer, device, all_input_ids, all_attention_masks, all_origin_indices, all_sentences_tokens, all_subtoken_lemmas, batch_size=32):\n",
        "    model.eval()\n",
        "    lemma_embeddings_sum = {}\n",
        "    lemma_token_counts = {}\n",
        "\n",
        "    current_idx = 0\n",
        "    for filename, forms_sentences in tqdm(processed_texts[\"forms\"].items(), desc=\"Processing files\"):\n",
        "        lemmas_sentences = processed_texts[\"lemmas\"][filename]\n",
        "\n",
        "        for forms_sentence, lemmas_sentence in zip(forms_sentences, lemmas_sentences):\n",
        "            assert len(forms_sentence) == len(lemmas_sentence), f\"Forms and lemmas length mismatch in file {filename}.\"\n",
        "\n",
        "            # Assume that all_input_ids, all_attention_masks, and all_origin_indices have the same structure\n",
        "            input_ids = all_input_ids[current_idx]\n",
        "            attention_masks = all_attention_masks[current_idx]\n",
        "            origin_indices = all_origin_indices[current_idx]\n",
        "            subtoken_lemmas = all_subtoken_lemmas[current_idx]  # Lemmas pour les subtokens actuels\n",
        "\n",
        "            input_tensor = torch.tensor(input_ids).unsqueeze(0).to(device)\n",
        "            attention_masks_tensor = torch.tensor(attention_masks).unsqueeze(0).to(device)\n",
        "\n",
        "            with torch.no_grad():\n",
        "                  outputs = model(input_tensor, attention_mask=attention_masks_tensor)\n",
        "                  hidden_states = outputs.last_hidden_state[0]  # Prenez le premier batch (devrait être la seule phrase)\n",
        "\n",
        "            # Pas de logique de poids ici\n",
        "\n",
        "            for token_idx, (token, lemma) in enumerate(zip(all_sentences_tokens[current_idx], subtoken_lemmas)):\n",
        "                # Utilisez le lemme directement car il est déjà aligné avec les subtokens\n",
        "                if lemma not in lemma_embeddings_sum:\n",
        "                    lemma_embeddings_sum[lemma] = np.zeros(hidden_states.shape[1], dtype=np.float32)\n",
        "                    lemma_token_counts[lemma] = 0\n",
        "\n",
        "                lemma_embeddings_sum[lemma] += hidden_states[token_idx].cpu().numpy()  # Simplement ajouter l'embedding\n",
        "                lemma_token_counts[lemma] += 1  # Comptez simplement le nombre d'occurrences\n",
        "\n",
        "            current_idx += 1\n",
        "\n",
        "    averaged_embeddings = {lemma: lemma_embeddings_sum[lemma] / lemma_token_counts[lemma] for lemma in lemma_embeddings_sum.keys()}\n",
        "    return averaged_embeddings"
      ]
    },
    {
      "cell_type": "code",
      "execution_count": null,
      "metadata": {
        "id": "JQ5d7oa-DzM7"
      },
      "outputs": [],
      "source": [
        "from torch.nn.utils.rnn import pad_sequence\n",
        "from transformers import AutoTokenizer, AutoModel\n",
        "\n",
        "def get_contextual_embeddings_with_weights(processed_texts, model, tokenizer, device, all_input_ids, all_attention_masks, all_origin_indices, all_sentences_tokens, all_subtoken_lemmas, batch_size=32):\n",
        "\n",
        "    lemma_embeddings_sum = {}\n",
        "    lemma_token_counts = {}\n",
        "\n",
        "    # Total number of sentences\n",
        "    total_sentences = len(all_input_ids)\n",
        "\n",
        "    for start_idx in tqdm(range(0, total_sentences, batch_size), desc=\"Processing batches\"):\n",
        "        end_idx = min(start_idx + batch_size, total_sentences)\n",
        "\n",
        "        # Extract batched data\n",
        "        batch_input_ids = all_input_ids[start_idx:end_idx]\n",
        "        batch_attention_masks = all_attention_masks[start_idx:end_idx]\n",
        "        batch_sentences_tokens = all_sentences_tokens[start_idx:end_idx]\n",
        "        batch_subtoken_lemmas = all_subtoken_lemmas[start_idx:end_idx]\n",
        "\n",
        "        # Padding sequences within the batch to have the same length\n",
        "        input_tensor = pad_sequence([torch.tensor(seq) for seq in batch_input_ids], batch_first=True).to(device)\n",
        "        attention_masks_tensor = pad_sequence([torch.tensor(mask) for mask in batch_attention_masks], batch_first=True).to(device)\n",
        "\n",
        "        with torch.no_grad():\n",
        "            outputs = model(input_tensor, attention_mask=attention_masks_tensor, output_hidden_states=True)\n",
        "            batch_hidden_states = outputs.hidden_states[-1]  # take the last hidden state\n",
        "\n",
        "        # Iterate over individual sentence embeddings in the batch\n",
        "        for idx, hidden_states in enumerate(batch_hidden_states):\n",
        "            weights = compute_weights(len(batch_sentences_tokens[idx]))\n",
        "\n",
        "            for token_idx, (token, lemma) in enumerate(zip(batch_sentences_tokens[idx], batch_subtoken_lemmas[idx])):\n",
        "                if lemma not in lemma_embeddings_sum:\n",
        "                    lemma_embeddings_sum[lemma] = np.zeros(hidden_states.shape[1], dtype=np.float32)\n",
        "                    lemma_token_counts[lemma] = 0\n",
        "\n",
        "                lemma_embeddings_sum[lemma] += weights[token_idx] * hidden_states[token_idx].cpu().numpy()\n",
        "                lemma_token_counts[lemma] += weights[token_idx]\n",
        "\n",
        "    averaged_embeddings = {lemma: lemma_embeddings_sum[lemma] / lemma_token_counts[lemma] for lemma in lemma_embeddings_sum.keys()}\n",
        "    return averaged_embeddings\n",
        "\n"
      ]
    },
    {
      "cell_type": "code",
      "execution_count": null,
      "metadata": {
        "colab": {
          "base_uri": "https://localhost:8080/"
        },
        "id": "-qSWD_DczjL5",
        "outputId": "76080f39-eb9c-413d-81e8-50382447856d"
      },
      "outputs": [
        {
          "output_type": "stream",
          "name": "stderr",
          "text": [
            "Processing batches: 100%|██████████| 5642/5642 [27:20<00:00,  3.44it/s]\n"
          ]
        }
      ],
      "source": [
        "philo_greek_embeddings = get_contextual_embeddings_with_weights(\n",
        "    processed_texts=filtered_grc_corpus,\n",
        "    model=model,\n",
        "    tokenizer=tokenizer,\n",
        "    device=device,\n",
        "    all_input_ids=greek_all_input_ids,\n",
        "    all_attention_masks=greek_all_attention_masks,\n",
        "    all_sentences_tokens = greek_all_sentences_tokens,\n",
        "    all_origin_indices=greek_all_origin_indices,\n",
        "    all_subtoken_lemmas=greek_all_subtoken_lemmas\n",
        ")"
      ]
    },
    {
      "cell_type": "code",
      "source": [
        "philo_latin_embeddings = get_contextual_embeddings_with_weights(\n",
        "    processed_texts=filtered_lat_corpus,\n",
        "    model=model,\n",
        "    tokenizer=tokenizer,\n",
        "    device=device,\n",
        "    all_input_ids=latin_all_input_ids,\n",
        "    all_attention_masks=latin_all_attention_masks,\n",
        "    all_sentences_tokens = latin_all_sentences_tokens,\n",
        "    all_origin_indices=latin_all_origin_indices,\n",
        "    all_subtoken_lemmas=latin_all_subtoken_lemmas\n",
        ")"
      ],
      "metadata": {
        "colab": {
          "base_uri": "https://localhost:8080/"
        },
        "id": "0rSuKU-usuVu",
        "outputId": "842c7fe9-4f0a-4be9-c0aa-371a3905de97"
      },
      "execution_count": null,
      "outputs": [
        {
          "output_type": "stream",
          "name": "stderr",
          "text": [
            "Processing batches: 100%|██████████| 999/999 [08:28<00:00,  1.96it/s]\n"
          ]
        }
      ]
    },
    {
      "cell_type": "code",
      "source": [
        "import random\n",
        "\n",
        "random_lemmas = random.sample(list(philo_greek_embeddings.keys()), 10)\n",
        "for lemma in random_lemmas:\n",
        "    print(lemma, philo_greek_embeddings[lemma][:5])"
      ],
      "metadata": {
        "id": "g4ypo4IRQRmy",
        "outputId": "4f08fbd1-d8a3-4dd3-f785-2fa7e2d073f8",
        "colab": {
          "base_uri": "https://localhost:8080/"
        }
      },
      "execution_count": null,
      "outputs": [
        {
          "output_type": "stream",
          "name": "stdout",
          "text": [
            "ἀγρίαι [ 0.02496342  0.02377088 -0.00303145 -0.06161425 -0.08300912]\n",
            "διομολογητής [-0.02923197  0.02017769  0.09088974  0.03340148 -0.01367698]\n",
            "λυτέω [-0.09446092  0.1343998  -0.03786481 -0.08447126 -0.03322066]\n",
            "Ῥήγιον [ 0.10592197  0.03958572 -0.02032054 -0.0895769   0.12957276]\n",
            "ἥντινά [-0.1520741  -0.09370718 -0.02544442  0.01203235  0.03966599]\n",
            "δίμηνος [ 0.08202566 -0.0320841   0.0182681   0.0709415   0.11611687]\n",
            "κυμαίνω [-0.08296876 -0.00725024  0.03758634 -0.02565242  0.04502526]\n",
            "Θεόγενος [ 0.03436761  0.03748453  0.17158794 -0.16107477  0.12947322]\n",
            "πηφίζω [-0.03666924  0.00672445  0.08354523 -0.07866172  0.0521444 ]\n",
            "—καθάπερ [-0.09404872 -0.08564957  0.04148288 -0.19891717  0.06261841]\n"
          ]
        }
      ]
    },
    {
      "cell_type": "code",
      "execution_count": null,
      "metadata": {
        "id": "6hr2uwGgh5TL"
      },
      "outputs": [],
      "source": [
        "with open('/content/drive/MyDrive/embeddings_save/philo_greek_embeddings.pkl', 'wb') as file:\n",
        "    pickle.dump(philo_greek_embeddings, file)"
      ]
    },
    {
      "cell_type": "code",
      "source": [
        "!gdown 1-6hW1nioaIYSSOemsdBdwSLqfHrYyLTV"
      ],
      "metadata": {
        "id": "JnUl8TUJSObG"
      },
      "execution_count": null,
      "outputs": []
    },
    {
      "cell_type": "code",
      "source": [
        "with open(\"/content/drive/MyDrive/embeddings_save/philo_greek_embeddings.pkl\", \"rb\") as f:\n",
        "    philo_greek_embeddings = pickle.load(f)"
      ],
      "metadata": {
        "id": "h_2YaV8vkhpn"
      },
      "execution_count": null,
      "outputs": []
    },
    {
      "cell_type": "code",
      "source": [
        "!gdown 1-8KV-B6X2iDd7GhGzcNhRtpVLssZwg0Q"
      ],
      "metadata": {
        "id": "xMNziIdmSg-E"
      },
      "execution_count": null,
      "outputs": []
    },
    {
      "cell_type": "code",
      "source": [
        "with open(\"/content/drive/MyDrive/embeddings_save/philo_latin_embeddings.pkl\", \"rb\") as f:\n",
        "    philo_latin_embeddings = pickle.load(f)"
      ],
      "metadata": {
        "id": "2-wt_Uv-6hma"
      },
      "execution_count": null,
      "outputs": []
    },
    {
      "cell_type": "code",
      "execution_count": null,
      "metadata": {
        "colab": {
          "base_uri": "https://localhost:8080/"
        },
        "id": "tG3fASc2sS4S",
        "outputId": "91b8e2fe-156b-467d-9531-0689347e64ce"
      },
      "outputs": [
        {
          "output_type": "stream",
          "name": "stdout",
          "text": [
            "['ὁ', 'μέν', 'ἐν', 'Δῆλος', 'παρά', 'θεός', 'αὐτός', 'γνώμη', 'ἀποφήνω', 'συγγράφω']\n"
          ]
        }
      ],
      "source": [
        "# Afficher les dix premières clés des embeddings grecs\n",
        "first_ten_keys = list(philo_greek_embeddings.keys())[:10]\n",
        "print(first_ten_keys)"
      ]
    },
    {
      "cell_type": "code",
      "execution_count": null,
      "metadata": {
        "colab": {
          "base_uri": "https://localhost:8080/"
        },
        "id": "cgg-yawf8bvY",
        "outputId": "fef60fb6-62fd-4f6b-fdfa-2cf7de221af1"
      },
      "outputs": [
        {
          "output_type": "stream",
          "name": "stdout",
          "text": [
            "/usr/local/lib/python3.10/dist-packages/gdown/cli.py:121: FutureWarning: Option `--id` was deprecated in version 4.3.1 and will be removed in 5.0. You don't need to pass it anymore to use a file ID.\n",
            "  warnings.warn(\n",
            "Downloading...\n",
            "From: https://drive.google.com/uc?id=1MZ4ld8j30ye3YGYy-T7V3Cyy1c4dlGks\n",
            "To: /content/stopwords_gk.txt\n",
            "100% 98.3k/98.3k [00:00<00:00, 136MB/s]\n"
          ]
        }
      ],
      "source": [
        "!gdown --id 1MZ4ld8j30ye3YGYy-T7V3Cyy1c4dlGks"
      ]
    },
    {
      "cell_type": "code",
      "execution_count": null,
      "metadata": {
        "colab": {
          "base_uri": "https://localhost:8080/"
        },
        "id": "3fvLw_s3qaTk",
        "outputId": "88c8ab8f-a5b4-4420-b98e-eaadee2a4fe8"
      },
      "outputs": [
        {
          "output_type": "stream",
          "name": "stdout",
          "text": [
            "/usr/local/lib/python3.10/dist-packages/gdown/cli.py:121: FutureWarning: Option `--id` was deprecated in version 4.3.1 and will be removed in 5.0. You don't need to pass it anymore to use a file ID.\n",
            "  warnings.warn(\n",
            "Downloading...\n",
            "From: https://drive.google.com/uc?id=161g7Kdv4PCFp2iYJAlMbHkb-CGstsNcu\n",
            "To: /content/stopwords_lat.txt\n",
            "100% 35.4k/35.4k [00:00<00:00, 93.1MB/s]\n"
          ]
        }
      ],
      "source": [
        "!gdown --id 161g7Kdv4PCFp2iYJAlMbHkb-CGstsNcu"
      ]
    },
    {
      "cell_type": "code",
      "execution_count": null,
      "metadata": {
        "id": "YyRuMnKU8gsK"
      },
      "outputs": [],
      "source": [
        "def remove_diacritics(char):\n",
        "    normalized_char = unicodedata.normalize('NFD', char)\n",
        "    non_diacritic_char = ''.join(c for c in normalized_char if not unicodedata.combining(c))\n",
        "    return non_diacritic_char"
      ]
    },
    {
      "cell_type": "code",
      "execution_count": null,
      "metadata": {
        "id": "aA2jY4CJHhg2"
      },
      "outputs": [],
      "source": [
        "with open(\"/content/stopwords_gk.txt\", encoding = \"utf8\") as stop_file:\n",
        "  stopwords_diacritics=stop_file.read().split(\"\\n\")\n",
        "stopwords_greek=set(stopwords_diacritics)"
      ]
    },
    {
      "cell_type": "code",
      "source": [
        "with open(\"/content/stopwords_lat.txt\", encoding = \"utf8\") as stop_file:\n",
        "  stopwords_diacritics=stop_file.read().split(\"\\n\")\n",
        "stopwords_latin=set(stopwords_diacritics)"
      ],
      "metadata": {
        "id": "njVPZ6eb8xIy"
      },
      "execution_count": null,
      "outputs": []
    },
    {
      "cell_type": "code",
      "execution_count": null,
      "metadata": {
        "id": "acNnU_oA80rf"
      },
      "outputs": [],
      "source": [
        "no_stop_greek_embeddings = {k: v for k, v in philo_greek_embeddings.items() if k not in stopwords_greek}"
      ]
    },
    {
      "cell_type": "code",
      "execution_count": null,
      "metadata": {
        "colab": {
          "base_uri": "https://localhost:8080/"
        },
        "id": "ntpD0sF2SS9A",
        "outputId": "74e8e7c6-0855-4dd3-ce36-ae3211a78320"
      },
      "outputs": [
        {
          "output_type": "stream",
          "name": "stdout",
          "text": [
            "['Δῆλος', 'θεός', 'γνώμη', 'ἀποφήνω', 'συγγράφω', 'προπύλαιος', 'Λητόος', 'διαιρέω', 'ὑπάρχω', 'ἀγαθός']\n"
          ]
        }
      ],
      "source": [
        "first_ten_keys = list(no_stop_greek_embeddings.keys())[:10]\n",
        "print(first_ten_keys)"
      ]
    },
    {
      "cell_type": "code",
      "source": [
        "no_stop_latin_embeddings = {k: v for k, v in philo_latin_embeddings.items() if k not in stopwords_latin}"
      ],
      "metadata": {
        "id": "veN7K-WS8__0"
      },
      "execution_count": null,
      "outputs": []
    },
    {
      "cell_type": "code",
      "execution_count": null,
      "metadata": {
        "colab": {
          "base_uri": "https://localhost:8080/"
        },
        "id": "vqo3vL2S7qqv",
        "outputId": "2b0d6218-bc54-47bf-84a9-2b918cda68a2"
      },
      "outputs": [
        {
          "data": {
            "text/plain": [
              "349488"
            ]
          },
          "execution_count": 34,
          "metadata": {},
          "output_type": "execute_result"
        }
      ],
      "source": [
        "len(no_stop_greek_embeddings.keys())"
      ]
    },
    {
      "cell_type": "code",
      "execution_count": null,
      "metadata": {
        "id": "Iog9TXSrvjAA"
      },
      "outputs": [],
      "source": [
        "from collections import Counter\n",
        "\n",
        "# 1. Calculer la fréquence des lemmes\n",
        "frequency_counter = Counter()\n",
        "for filename, lemmatized_sentences in filtered_grc_corpus[\"lemmas\"].items():  # Attention ici, j'ai ajouté [\"lemmas\"]\n",
        "    for lemmatized_text in lemmatized_sentences:\n",
        "        for lemma in lemmatized_text:\n",
        "            frequency_counter[lemma] += 1\n",
        "\n",
        "# 2. Trier les lemmes par fréquence\n",
        "sorted_lemmas = [item[0] for item in frequency_counter.most_common()]\n",
        "\n",
        "# 3. Sélectionner les top N lemmes\n",
        "top_greek_lemmas = set(sorted_lemmas[:10000])\n",
        "\n",
        "# 4. Filtrer les embeddings\n",
        "greek_filtered_embeddings = {lemma: no_stop_greek_embeddings[lemma] for lemma in top_greek_lemmas if lemma in no_stop_greek_embeddings}\n",
        "\n"
      ]
    },
    {
      "cell_type": "code",
      "source": [
        "# 1. Calculer la fréquence des lemmes\n",
        "frequency_counter = Counter()\n",
        "for filename, lemmatized_sentences in filtered_lat_corpus[\"lemmas\"].items():  # Attention ici, j'ai ajouté [\"lemmas\"]\n",
        "    for lemmatized_text in lemmatized_sentences:\n",
        "        for lemma in lemmatized_text:\n",
        "            frequency_counter[lemma] += 1\n",
        "\n",
        "# 2. Trier les lemmes par fréquence\n",
        "sorted_lemmas = [item[0] for item in frequency_counter.most_common()]\n",
        "\n",
        "# 3. Sélectionner les top N lemmes\n",
        "top_latin_lemmas = set(sorted_lemmas[:10000])\n",
        "\n",
        "# 4. Filtrer les embeddings\n",
        "latin_filtered_embeddings = {lemma: no_stop_latin_embeddings[lemma] for lemma in top_latin_lemmas if lemma in no_stop_latin_embeddings}\n"
      ],
      "metadata": {
        "id": "qbIPByht9caS"
      },
      "execution_count": null,
      "outputs": []
    },
    {
      "cell_type": "code",
      "execution_count": null,
      "metadata": {
        "colab": {
          "base_uri": "https://localhost:8080/"
        },
        "id": "PsatgLKAv3_Z",
        "outputId": "f790999b-1d94-4c1d-e08e-d24c93f3f4b3"
      },
      "outputs": [
        {
          "output_type": "stream",
          "name": "stdout",
          "text": [
            "9623\n"
          ]
        }
      ],
      "source": [
        "matching_greek_lemmas = [lemma for lemma in top_greek_lemmas if lemma in no_stop_greek_embeddings]\n",
        "print(len(matching_greek_lemmas))"
      ]
    },
    {
      "cell_type": "code",
      "source": [
        "matching_latin_lemmas = [lemma for lemma in top_latin_lemmas if lemma in no_stop_latin_embeddings]\n",
        "print(len(matching_latin_lemmas))"
      ],
      "metadata": {
        "colab": {
          "base_uri": "https://localhost:8080/"
        },
        "id": "dlTqz5sh9yO8",
        "outputId": "a8364338-19ae-4aa8-adc7-089a93e667b5"
      },
      "execution_count": null,
      "outputs": [
        {
          "output_type": "stream",
          "name": "stdout",
          "text": [
            "9571\n"
          ]
        }
      ]
    },
    {
      "cell_type": "code",
      "execution_count": null,
      "metadata": {
        "colab": {
          "base_uri": "https://localhost:8080/"
        },
        "id": "sACzqPJVTOf1",
        "outputId": "5a0cc616-5282-4188-8c19-4c26b35893e0"
      },
      "outputs": [
        {
          "name": "stdout",
          "output_type": "stream",
          "text": [
            "{'ἄν', 'σοῖς', 'τότε', 'ἔχω', 'ἅπαξ', 'λίαν', 'ἅμα', 'αὐτήν', 'γίγνομαι', 'αὐτόθι', 'ἀμφοτέρων', 'ποῖος', 'οὔτι', 'πλήν', 'μοί', 'εἰμί', 'ν', 'καθά', 'δεῦρο', 'τοιοῦτος', 'τοιόσδε', 'αὔτως', 'ἔοικα', 'ἔπειτ', 'ἕως', 'γάρ', 'ἕτερος', 'γοῦν', 'τἆλλα', 'πού', 'πάν', 'πω', 'μήθ', 'κἀκεῖνα', 'βαίνω', 'νυν', 'τε', 'δ', 'ἡμᾶς', 'ὑμέτερος', 'ἡμέτερος', 'μάλα', 'εἶτα', 'οὐδέποτε', 'ἔστε', 'ἐπειδάν', 'ἔξωθεν', 'ὡσαύτως', 'ἔρχομαι', 'εὐθύς', 'μού', 'ἐγώ', 'ἡνίκα', 'ἀμφότεροι', 'ἐπήν', 'ποιέω', 'πάρος', 'ἄνωθεν', 'πᾶς', 'εὖ', 'λ', 'σεῦ', 'περί', 'ἔνι', 'διά', 'μηκέτι', 'παρά', 'πάντως', 'ὅπερ', 'οὗ', 'εἶμι', 'ἀμφοῖν', 'ἔοι', 'κἀν', 'καθάπερ', 'ταὐτός', 'οὐδείς', 'προσέτι', 'εἰμι', 'ἄλλοθεν', 'ἐπειδή', 'α', 'ἀλλήλων', 'αὕτη', 'ἔξω', 'νυνδή', 'οὖν', 'πότερον', 'ἔφη', 'ἑτέρως', 'ἤδη', 'εἴσω', 'ἐν', 'ὁ', 'ἀπό', 'αὐτάρ', 'ἐκεῖθεν', 'πάντων', 'οὗτος', '.', 'πότερος', 'εὖτε', 'ἄλλος', 'σύ', 'ξύν', 'οὔκουν', 'ἆρα', 'ἐκτός', 'ἐγγύς', 'ὡς', 'διό', 'ἅτε', 'ἠύτε', 'εἰ', 'ὅπως', 'καίτοι', 'ὁπότε', 'καθόλου', 'ἡμῶν', 'οἶδα', 'τάχα', 'ἄρτι', 'μήποτε', 'ἅς', 'θ', 'ἀντί', 'ὄπισθεν', 'μηδέ', 'σχεδόν', 'χρή', 'ὅσος', 'ἦ', 'ὅπου', 'ἆρ', 'ὅνπερ', 'ἐναντίων', 'πρό', 'ἔνθα', 'ἐμαυτοῦ', 'ἄνευ', 'ὅδε', 'δή', 'η', 'ε', 'σέ', 'κἄν', 'ἐστίν', 'ἔνθεν', 'ὑμῶν', 'τοίνυν', 'μέν', 'πάλαι', 'σός', 'πάντες', 'τῇ', 'οὔ', 'αὖθις', 'ἔστιν', 'εἶς', 'αἱρέω', 'ὅτε', 'ἐμός', 'β', 'αὑτό', 'ἐκεῖ', 'μένω', 'τὶς', 'τόσος', 'πάρα', 'ποτε', 'ἐνθάδε', 'αὐτίκα', 'μᾶλλον', 'λέγω', 'οὐχί', 'ἐπεί', 'ἑκάτερος', 'μός', 'αὐτός', 'σῶς', 'ὅταν', 'αὐτώ', 'ἄλλοτε', 'πότε', 'διότι', 'φημί', 'γε', 'τεύ', 'ἐνταῦθα', 'εἰς', 'μέχρι', 'πώποτε', 'σφεῖς', 'πολύς', 'ἄλλως', 'νιν', 'ἄλλην', 'τὶ', 'πως', 'κατά', 'πολλάκις', 'χαμαί', 'μετά', 'ἡμεῖς', 'πανταχοῦ', 'πάμπαν', 'ἑξῆς', 'οἴη', 'ἴω', 'νυνί', 'ο', 'φῶ', 'ζ', 'δῆτα', 'ἕκαστος', 'πουλύς', 'οὔπω', 'μήτε', 'τί', 'νύ', 'πρόσθεν', 'ἀλλά', 'ὥσπερ', 'ὅς', 'κἀκείνη', 'ὅσσος', 'σεαυτοῦ', 'πάντας', 'τοσαύτης', 'ὑμᾶς', 'τις', 'μέντοι', 'σαυτοῦ', 'αὐτή', 'γ', 'ἤτοι', 'τᾶς', 'αἵπερ', 'μιν', 'μήτ', 'δήπου', 'οὔτε', 'οἶος', 'οἴκαδε', 'πῶς', 'ἐφεξῆς', 'ὑμῖν', 'ἅλις', 'οἷς', 'ἔτι', 'ἔνδον', 'ἄχρι', 'ἁπάντων', 'ἐντός', 'πάντα', 'ἔχοιμι', 'ἁπλῶς', 'οὖ', 'ἐντεῦθεν', 'μεταξύ', 'σφόδρα', 'καίπερ', 'εἴτε', 'σύν', 'εἴη', 'οὕσπερ', 'οὐδέν', 'κ', 'φής', 'οὐκέτι', 'ὅστις', 'ὁμοῦ', 'ἄμφω', 'πάλιν', 'ἐνθένδε', 'τ', 'πόθεν', 'ὦ', 'ἀμφότερος', 'ἀμφί', 'τάς', 'μηδείς', 'οὑμός', 'καί', 'οἷος', 'ποῦ', 'ἀνά', 'ὑμεῖς', 'ἐάω', 'ἔπειτα', 'ἐκεῖνος', 'ὀπίσω', 'πέρ', 'ἴσως', 'ἅπερ', 'εἴπερ', 'εἴποιμι', 'φησί', 'τῆς', 'ἔστω', 'ἀγχοῦ', 'ὑπέρ', 'οὐ', 'ἐκεῖσε', 'παῖς', 'κἀγώ', 'νῦν', 'ἤ', 'πᾶν', 'θάτερος', 'ἦμος', 'ἦν', 'πρίν', 'πότερ', 'ι', 'δέ', 'ἄλλων', 'πᾶσα', 'ὑπό', 'ὅτις', 'ἑαυτοῦ', 'ναί', 'ἐκ', 'μή', 'καὐτός', 'ταύτῃ', 'ἀτάρ', 'ἅπας', 'τοῖος', 'σφᾶς', 'ἐάν', 'αὐτοὺς', 'ἕνεκα', 'ὥστε', 'ἐπί', 'ἔτ', 'ὅτι', 'ἄνω', 'ὧδε', 'τοσοῦτος', 'αὑτή', 'ἀεί', 'πρός', 'ὅθεν', 'χωρίς', 'εἴμι', 'τούτω', 'οὐκοῦν', 'ἄμμες', 'ἔσω', 'κάτω', 'πάνυ', 'νή', 'ἔμπροσθεν', 'πάντῃ', 'μήν', 'ἵνα', 'ὁράω', 'ὅμως', 'πόσος', 'ἐναντίον', 'αὑτός', 'κἀκεῖνος', 'ἄγαν', 'οὐδέ', 'πρόσω', 'τίς', 'κἀμός', 'ὥπερ', 'ὄφρα', 'τἄλλα', 'οὔκ'}\n"
          ]
        }
      ],
      "source": [
        "missing_lemmas = top_greek_lemmas - set(no_stop_greek_embeddings.keys())\n",
        "print(missing_lemmas)"
      ]
    },
    {
      "cell_type": "code",
      "execution_count": null,
      "metadata": {
        "id": "g5SQbzaT4-VN"
      },
      "outputs": [],
      "source": [
        "# Extract the lemmas and their embeddings\n",
        "all_embeddings = {**latin_filtered_embeddings, **greek_filtered_embeddings}\n",
        "# Save embeddings to the vectors file\n",
        "# Écrivez le fichier de vecteurs\n",
        "with open('vectors.tsv', 'w') as f_vectors:\n",
        "    for lemma, embedding in all_embeddings.items():\n",
        "        f_vectors.write('\\t'.join([str(value) for value in embedding]) + '\\n')\n",
        "\n",
        "# Écrivez le fichier de métadonnées\n",
        "with open('metadata.tsv', 'w') as f_metadata:\n",
        "    for lemma in all_embeddings.keys():\n",
        "        f_metadata.write(lemma + '\\n')"
      ]
    },
    {
      "cell_type": "code",
      "source": [
        "from sklearn.metrics.pairwise import cosine_similarity\n",
        "\n",
        "def find_most_similar(target_embedding, embeddings_dict):\n",
        "    similarities = {}\n",
        "    for word, embedding in embeddings_dict.items():\n",
        "        sim = cosine_similarity([target_embedding], [embedding])[0][0]\n",
        "        similarities[word] = sim\n",
        "\n",
        "    # Triez les mots par similarité de façon décroissante et prenez les 10 premiers\n",
        "    sorted_items = sorted(similarities.items(), key=lambda x: x[1], reverse=True)\n",
        "\n",
        "    return sorted_items[:10]\n",
        "\n",
        "# À ce stade, la matrice `similarities` contient la similarité cosinus entre chaque paire d'embeddings.\n",
        "# Par exemple, similarities[i, j] est la similarité entre le i-ème embedding latin et le j-ème embedding grec.\n"
      ],
      "metadata": {
        "id": "4Vf7-zbaLlqf"
      },
      "execution_count": null,
      "outputs": []
    },
    {
      "cell_type": "code",
      "source": [
        "greek_word = \"λόγος\"\n",
        "greek_embedding = greek_filtered_embeddings[greek_word]  # Assurez-vous que cela est bien indexé\n",
        "\n",
        "top_latin_words_with_scores = find_most_similar(greek_embedding, latin_filtered_embeddings)\n",
        "\n",
        "for word, score in top_latin_words_with_scores:\n",
        "    print(f\"{word}: {score:.4f}\")"
      ],
      "metadata": {
        "id": "qukwZXrAOCeU",
        "colab": {
          "base_uri": "https://localhost:8080/"
        },
        "outputId": "14b124d1-290c-4f8e-d92c-6994049884ed"
      },
      "execution_count": null,
      "outputs": [
        {
          "output_type": "stream",
          "name": "stdout",
          "text": [
            "oratio: 0.9894\n",
            "τῷ: 0.9892\n",
            "narratio: 0.9885\n",
            "καὶ: 0.9878\n",
            "liber: 0.9877\n",
            "finis: 0.9877\n",
            "scribo: 0.9877\n",
            "loquor: 0.9875\n",
            "ratio: 0.9875\n",
            "argumentum: 0.9872\n"
          ]
        }
      ]
    },
    {
      "cell_type": "code",
      "source": [],
      "metadata": {
        "id": "u_fdmCUZfWvX"
      },
      "execution_count": null,
      "outputs": []
    }
  ],
  "metadata": {
    "accelerator": "GPU",
    "colab": {
      "machine_shape": "hm",
      "provenance": [],
      "gpuType": "T4",
      "authorship_tag": "ABX9TyMLdV0EPOBvAiVMufnPcoQy",
      "include_colab_link": true
    },
    "kernelspec": {
      "display_name": "Python 3",
      "name": "python3"
    },
    "language_info": {
      "name": "python"
    },
    "widgets": {
      "application/vnd.jupyter.widget-state+json": {
        "1918ac90e2004f749122e72c13fb61b1": {
          "model_module": "@jupyter-widgets/controls",
          "model_module_version": "1.5.0",
          "model_name": "HBoxModel",
          "state": {
            "_dom_classes": [],
            "_model_module": "@jupyter-widgets/controls",
            "_model_module_version": "1.5.0",
            "_model_name": "HBoxModel",
            "_view_count": null,
            "_view_module": "@jupyter-widgets/controls",
            "_view_module_version": "1.5.0",
            "_view_name": "HBoxView",
            "box_style": "",
            "children": [
              "IPY_MODEL_497f07d5583d4717979cb6b5fca39b22",
              "IPY_MODEL_de107615fdf24709a9e1534382a534e1",
              "IPY_MODEL_82608bef8b324d439767ddbd621de9f5"
            ],
            "layout": "IPY_MODEL_de3a53102e4e4ea8876238d690d518bd"
          }
        },
        "1f95feaaaf504a52ae70d6fae38c02a8": {
          "model_module": "@jupyter-widgets/controls",
          "model_module_version": "1.5.0",
          "model_name": "ProgressStyleModel",
          "state": {
            "_model_module": "@jupyter-widgets/controls",
            "_model_module_version": "1.5.0",
            "_model_name": "ProgressStyleModel",
            "_view_count": null,
            "_view_module": "@jupyter-widgets/base",
            "_view_module_version": "1.2.0",
            "_view_name": "StyleView",
            "bar_color": null,
            "description_width": ""
          }
        },
        "222587bd8fae4678b3125105f5392824": {
          "model_module": "@jupyter-widgets/base",
          "model_module_version": "1.2.0",
          "model_name": "LayoutModel",
          "state": {
            "_model_module": "@jupyter-widgets/base",
            "_model_module_version": "1.2.0",
            "_model_name": "LayoutModel",
            "_view_count": null,
            "_view_module": "@jupyter-widgets/base",
            "_view_module_version": "1.2.0",
            "_view_name": "LayoutView",
            "align_content": null,
            "align_items": null,
            "align_self": null,
            "border": null,
            "bottom": null,
            "display": null,
            "flex": null,
            "flex_flow": null,
            "grid_area": null,
            "grid_auto_columns": null,
            "grid_auto_flow": null,
            "grid_auto_rows": null,
            "grid_column": null,
            "grid_gap": null,
            "grid_row": null,
            "grid_template_areas": null,
            "grid_template_columns": null,
            "grid_template_rows": null,
            "height": null,
            "justify_content": null,
            "justify_items": null,
            "left": null,
            "margin": null,
            "max_height": null,
            "max_width": null,
            "min_height": null,
            "min_width": null,
            "object_fit": null,
            "object_position": null,
            "order": null,
            "overflow": null,
            "overflow_x": null,
            "overflow_y": null,
            "padding": null,
            "right": null,
            "top": null,
            "visibility": null,
            "width": null
          }
        },
        "22b09a3169d7443fa8c9321c6874f081": {
          "model_module": "@jupyter-widgets/controls",
          "model_module_version": "1.5.0",
          "model_name": "HBoxModel",
          "state": {
            "_dom_classes": [],
            "_model_module": "@jupyter-widgets/controls",
            "_model_module_version": "1.5.0",
            "_model_name": "HBoxModel",
            "_view_count": null,
            "_view_module": "@jupyter-widgets/controls",
            "_view_module_version": "1.5.0",
            "_view_name": "HBoxView",
            "box_style": "",
            "children": [
              "IPY_MODEL_ab45884c851641eb90a1c5a92597fcfe",
              "IPY_MODEL_dec3c2fd1c864df0a5ad918d6ecc44a8",
              "IPY_MODEL_297a88ec4fd04228b23941c52b726fcf"
            ],
            "layout": "IPY_MODEL_b69d4db4e75042f8b0af68f17bb8054f"
          }
        },
        "297a88ec4fd04228b23941c52b726fcf": {
          "model_module": "@jupyter-widgets/controls",
          "model_module_version": "1.5.0",
          "model_name": "HTMLModel",
          "state": {
            "_dom_classes": [],
            "_model_module": "@jupyter-widgets/controls",
            "_model_module_version": "1.5.0",
            "_model_name": "HTMLModel",
            "_view_count": null,
            "_view_module": "@jupyter-widgets/controls",
            "_view_module_version": "1.5.0",
            "_view_name": "HTMLView",
            "description": "",
            "description_tooltip": null,
            "layout": "IPY_MODEL_9386f43cc9f943d9b3a4c9ff0ad8e2f1",
            "placeholder": "​",
            "style": "IPY_MODEL_96fcbaf920ec4567b660251ba0aaab63",
            "value": " 367k/? [00:00&lt;00:00, 18.8MB/s]"
          }
        },
        "38c8c7888d4f4e95911401efb4b5a2a1": {
          "model_module": "@jupyter-widgets/base",
          "model_module_version": "1.2.0",
          "model_name": "LayoutModel",
          "state": {
            "_model_module": "@jupyter-widgets/base",
            "_model_module_version": "1.2.0",
            "_model_name": "LayoutModel",
            "_view_count": null,
            "_view_module": "@jupyter-widgets/base",
            "_view_module_version": "1.2.0",
            "_view_name": "LayoutView",
            "align_content": null,
            "align_items": null,
            "align_self": null,
            "border": null,
            "bottom": null,
            "display": null,
            "flex": null,
            "flex_flow": null,
            "grid_area": null,
            "grid_auto_columns": null,
            "grid_auto_flow": null,
            "grid_auto_rows": null,
            "grid_column": null,
            "grid_gap": null,
            "grid_row": null,
            "grid_template_areas": null,
            "grid_template_columns": null,
            "grid_template_rows": null,
            "height": null,
            "justify_content": null,
            "justify_items": null,
            "left": null,
            "margin": null,
            "max_height": null,
            "max_width": null,
            "min_height": null,
            "min_width": null,
            "object_fit": null,
            "object_position": null,
            "order": null,
            "overflow": null,
            "overflow_x": null,
            "overflow_y": null,
            "padding": null,
            "right": null,
            "top": null,
            "visibility": null,
            "width": null
          }
        },
        "3be1141c5fd041a2a8dbc4392dc124bc": {
          "model_module": "@jupyter-widgets/controls",
          "model_module_version": "1.5.0",
          "model_name": "HTMLModel",
          "state": {
            "_dom_classes": [],
            "_model_module": "@jupyter-widgets/controls",
            "_model_module_version": "1.5.0",
            "_model_name": "HTMLModel",
            "_view_count": null,
            "_view_module": "@jupyter-widgets/controls",
            "_view_module_version": "1.5.0",
            "_view_name": "HTMLView",
            "description": "",
            "description_tooltip": null,
            "layout": "IPY_MODEL_76f9dee304ec4a85997c0730b2d0fcf7",
            "placeholder": "​",
            "style": "IPY_MODEL_f1d5b8523265425a9eec9ae77a699ea6",
            "value": "Downloading https://raw.githubusercontent.com/stanfordnlp/stanza-resources/main/resources_1.6.0.json: "
          }
        },
        "467245ec174f4e09a50cfe26fe4ef98b": {
          "model_module": "@jupyter-widgets/base",
          "model_module_version": "1.2.0",
          "model_name": "LayoutModel",
          "state": {
            "_model_module": "@jupyter-widgets/base",
            "_model_module_version": "1.2.0",
            "_model_name": "LayoutModel",
            "_view_count": null,
            "_view_module": "@jupyter-widgets/base",
            "_view_module_version": "1.2.0",
            "_view_name": "LayoutView",
            "align_content": null,
            "align_items": null,
            "align_self": null,
            "border": null,
            "bottom": null,
            "display": null,
            "flex": null,
            "flex_flow": null,
            "grid_area": null,
            "grid_auto_columns": null,
            "grid_auto_flow": null,
            "grid_auto_rows": null,
            "grid_column": null,
            "grid_gap": null,
            "grid_row": null,
            "grid_template_areas": null,
            "grid_template_columns": null,
            "grid_template_rows": null,
            "height": null,
            "justify_content": null,
            "justify_items": null,
            "left": null,
            "margin": null,
            "max_height": null,
            "max_width": null,
            "min_height": null,
            "min_width": null,
            "object_fit": null,
            "object_position": null,
            "order": null,
            "overflow": null,
            "overflow_x": null,
            "overflow_y": null,
            "padding": null,
            "right": null,
            "top": null,
            "visibility": null,
            "width": null
          }
        },
        "474177504c95461e9813ecdea8b3eabe": {
          "model_module": "@jupyter-widgets/controls",
          "model_module_version": "1.5.0",
          "model_name": "HTMLModel",
          "state": {
            "_dom_classes": [],
            "_model_module": "@jupyter-widgets/controls",
            "_model_module_version": "1.5.0",
            "_model_name": "HTMLModel",
            "_view_count": null,
            "_view_module": "@jupyter-widgets/controls",
            "_view_module_version": "1.5.0",
            "_view_name": "HTMLView",
            "description": "",
            "description_tooltip": null,
            "layout": "IPY_MODEL_467245ec174f4e09a50cfe26fe4ef98b",
            "placeholder": "​",
            "style": "IPY_MODEL_9b7645d0bad44fcfa5a4314cacb3bc8b",
            "value": " 367k/? [00:00&lt;00:00, 17.6MB/s]"
          }
        },
        "492cb6c20ef64073b7b2b098dbe11303": {
          "model_module": "@jupyter-widgets/controls",
          "model_module_version": "1.5.0",
          "model_name": "FloatProgressModel",
          "state": {
            "_dom_classes": [],
            "_model_module": "@jupyter-widgets/controls",
            "_model_module_version": "1.5.0",
            "_model_name": "FloatProgressModel",
            "_view_count": null,
            "_view_module": "@jupyter-widgets/controls",
            "_view_module_version": "1.5.0",
            "_view_name": "ProgressView",
            "bar_style": "success",
            "description": "",
            "description_tooltip": null,
            "layout": "IPY_MODEL_9568af372a5c43f7b0b83cc332860235",
            "max": 45749,
            "min": 0,
            "orientation": "horizontal",
            "style": "IPY_MODEL_557fe5c4a977456c9cdeefb09278ea5e",
            "value": 45749
          }
        },
        "497f07d5583d4717979cb6b5fca39b22": {
          "model_module": "@jupyter-widgets/controls",
          "model_module_version": "1.5.0",
          "model_name": "HTMLModel",
          "state": {
            "_dom_classes": [],
            "_model_module": "@jupyter-widgets/controls",
            "_model_module_version": "1.5.0",
            "_model_name": "HTMLModel",
            "_view_count": null,
            "_view_module": "@jupyter-widgets/controls",
            "_view_module_version": "1.5.0",
            "_view_name": "HTMLView",
            "description": "",
            "description_tooltip": null,
            "layout": "IPY_MODEL_5c26d5a7fe9d4d419e259a56f7a71c64",
            "placeholder": "​",
            "style": "IPY_MODEL_670e00e129604abab314848bf52b9267",
            "value": "Downloading https://huggingface.co/stanfordnlp/stanza-grc/resolve/v1.6.0/models/default.zip: 100%"
          }
        },
        "557fe5c4a977456c9cdeefb09278ea5e": {
          "model_module": "@jupyter-widgets/controls",
          "model_module_version": "1.5.0",
          "model_name": "ProgressStyleModel",
          "state": {
            "_model_module": "@jupyter-widgets/controls",
            "_model_module_version": "1.5.0",
            "_model_name": "ProgressStyleModel",
            "_view_count": null,
            "_view_module": "@jupyter-widgets/base",
            "_view_module_version": "1.2.0",
            "_view_name": "StyleView",
            "bar_color": null,
            "description_width": ""
          }
        },
        "5c26d5a7fe9d4d419e259a56f7a71c64": {
          "model_module": "@jupyter-widgets/base",
          "model_module_version": "1.2.0",
          "model_name": "LayoutModel",
          "state": {
            "_model_module": "@jupyter-widgets/base",
            "_model_module_version": "1.2.0",
            "_model_name": "LayoutModel",
            "_view_count": null,
            "_view_module": "@jupyter-widgets/base",
            "_view_module_version": "1.2.0",
            "_view_name": "LayoutView",
            "align_content": null,
            "align_items": null,
            "align_self": null,
            "border": null,
            "bottom": null,
            "display": null,
            "flex": null,
            "flex_flow": null,
            "grid_area": null,
            "grid_auto_columns": null,
            "grid_auto_flow": null,
            "grid_auto_rows": null,
            "grid_column": null,
            "grid_gap": null,
            "grid_row": null,
            "grid_template_areas": null,
            "grid_template_columns": null,
            "grid_template_rows": null,
            "height": null,
            "justify_content": null,
            "justify_items": null,
            "left": null,
            "margin": null,
            "max_height": null,
            "max_width": null,
            "min_height": null,
            "min_width": null,
            "object_fit": null,
            "object_position": null,
            "order": null,
            "overflow": null,
            "overflow_x": null,
            "overflow_y": null,
            "padding": null,
            "right": null,
            "top": null,
            "visibility": null,
            "width": null
          }
        },
        "653ed55d871643139ccd354344ca4f90": {
          "model_module": "@jupyter-widgets/base",
          "model_module_version": "1.2.0",
          "model_name": "LayoutModel",
          "state": {
            "_model_module": "@jupyter-widgets/base",
            "_model_module_version": "1.2.0",
            "_model_name": "LayoutModel",
            "_view_count": null,
            "_view_module": "@jupyter-widgets/base",
            "_view_module_version": "1.2.0",
            "_view_name": "LayoutView",
            "align_content": null,
            "align_items": null,
            "align_self": null,
            "border": null,
            "bottom": null,
            "display": null,
            "flex": null,
            "flex_flow": null,
            "grid_area": null,
            "grid_auto_columns": null,
            "grid_auto_flow": null,
            "grid_auto_rows": null,
            "grid_column": null,
            "grid_gap": null,
            "grid_row": null,
            "grid_template_areas": null,
            "grid_template_columns": null,
            "grid_template_rows": null,
            "height": null,
            "justify_content": null,
            "justify_items": null,
            "left": null,
            "margin": null,
            "max_height": null,
            "max_width": null,
            "min_height": null,
            "min_width": null,
            "object_fit": null,
            "object_position": null,
            "order": null,
            "overflow": null,
            "overflow_x": null,
            "overflow_y": null,
            "padding": null,
            "right": null,
            "top": null,
            "visibility": null,
            "width": null
          }
        },
        "670e00e129604abab314848bf52b9267": {
          "model_module": "@jupyter-widgets/controls",
          "model_module_version": "1.5.0",
          "model_name": "DescriptionStyleModel",
          "state": {
            "_model_module": "@jupyter-widgets/controls",
            "_model_module_version": "1.5.0",
            "_model_name": "DescriptionStyleModel",
            "_view_count": null,
            "_view_module": "@jupyter-widgets/base",
            "_view_module_version": "1.2.0",
            "_view_name": "StyleView",
            "description_width": ""
          }
        },
        "76f9dee304ec4a85997c0730b2d0fcf7": {
          "model_module": "@jupyter-widgets/base",
          "model_module_version": "1.2.0",
          "model_name": "LayoutModel",
          "state": {
            "_model_module": "@jupyter-widgets/base",
            "_model_module_version": "1.2.0",
            "_model_name": "LayoutModel",
            "_view_count": null,
            "_view_module": "@jupyter-widgets/base",
            "_view_module_version": "1.2.0",
            "_view_name": "LayoutView",
            "align_content": null,
            "align_items": null,
            "align_self": null,
            "border": null,
            "bottom": null,
            "display": null,
            "flex": null,
            "flex_flow": null,
            "grid_area": null,
            "grid_auto_columns": null,
            "grid_auto_flow": null,
            "grid_auto_rows": null,
            "grid_column": null,
            "grid_gap": null,
            "grid_row": null,
            "grid_template_areas": null,
            "grid_template_columns": null,
            "grid_template_rows": null,
            "height": null,
            "justify_content": null,
            "justify_items": null,
            "left": null,
            "margin": null,
            "max_height": null,
            "max_width": null,
            "min_height": null,
            "min_width": null,
            "object_fit": null,
            "object_position": null,
            "order": null,
            "overflow": null,
            "overflow_x": null,
            "overflow_y": null,
            "padding": null,
            "right": null,
            "top": null,
            "visibility": null,
            "width": null
          }
        },
        "82608bef8b324d439767ddbd621de9f5": {
          "model_module": "@jupyter-widgets/controls",
          "model_module_version": "1.5.0",
          "model_name": "HTMLModel",
          "state": {
            "_dom_classes": [],
            "_model_module": "@jupyter-widgets/controls",
            "_model_module_version": "1.5.0",
            "_model_name": "HTMLModel",
            "_view_count": null,
            "_view_module": "@jupyter-widgets/controls",
            "_view_module_version": "1.5.0",
            "_view_name": "HTMLView",
            "description": "",
            "description_tooltip": null,
            "layout": "IPY_MODEL_8a17bfe24fdd46f4b29e9d556190b378",
            "placeholder": "​",
            "style": "IPY_MODEL_b370a8537ce847b3bda281fe3ecf118f",
            "value": " 129M/129M [00:02&lt;00:00, 52.5MB/s]"
          }
        },
        "8a17bfe24fdd46f4b29e9d556190b378": {
          "model_module": "@jupyter-widgets/base",
          "model_module_version": "1.2.0",
          "model_name": "LayoutModel",
          "state": {
            "_model_module": "@jupyter-widgets/base",
            "_model_module_version": "1.2.0",
            "_model_name": "LayoutModel",
            "_view_count": null,
            "_view_module": "@jupyter-widgets/base",
            "_view_module_version": "1.2.0",
            "_view_name": "LayoutView",
            "align_content": null,
            "align_items": null,
            "align_self": null,
            "border": null,
            "bottom": null,
            "display": null,
            "flex": null,
            "flex_flow": null,
            "grid_area": null,
            "grid_auto_columns": null,
            "grid_auto_flow": null,
            "grid_auto_rows": null,
            "grid_column": null,
            "grid_gap": null,
            "grid_row": null,
            "grid_template_areas": null,
            "grid_template_columns": null,
            "grid_template_rows": null,
            "height": null,
            "justify_content": null,
            "justify_items": null,
            "left": null,
            "margin": null,
            "max_height": null,
            "max_width": null,
            "min_height": null,
            "min_width": null,
            "object_fit": null,
            "object_position": null,
            "order": null,
            "overflow": null,
            "overflow_x": null,
            "overflow_y": null,
            "padding": null,
            "right": null,
            "top": null,
            "visibility": null,
            "width": null
          }
        },
        "8bea382edeb346b7948f376b907a34ab": {
          "model_module": "@jupyter-widgets/controls",
          "model_module_version": "1.5.0",
          "model_name": "ProgressStyleModel",
          "state": {
            "_model_module": "@jupyter-widgets/controls",
            "_model_module_version": "1.5.0",
            "_model_name": "ProgressStyleModel",
            "_view_count": null,
            "_view_module": "@jupyter-widgets/base",
            "_view_module_version": "1.2.0",
            "_view_name": "StyleView",
            "bar_color": null,
            "description_width": ""
          }
        },
        "9386f43cc9f943d9b3a4c9ff0ad8e2f1": {
          "model_module": "@jupyter-widgets/base",
          "model_module_version": "1.2.0",
          "model_name": "LayoutModel",
          "state": {
            "_model_module": "@jupyter-widgets/base",
            "_model_module_version": "1.2.0",
            "_model_name": "LayoutModel",
            "_view_count": null,
            "_view_module": "@jupyter-widgets/base",
            "_view_module_version": "1.2.0",
            "_view_name": "LayoutView",
            "align_content": null,
            "align_items": null,
            "align_self": null,
            "border": null,
            "bottom": null,
            "display": null,
            "flex": null,
            "flex_flow": null,
            "grid_area": null,
            "grid_auto_columns": null,
            "grid_auto_flow": null,
            "grid_auto_rows": null,
            "grid_column": null,
            "grid_gap": null,
            "grid_row": null,
            "grid_template_areas": null,
            "grid_template_columns": null,
            "grid_template_rows": null,
            "height": null,
            "justify_content": null,
            "justify_items": null,
            "left": null,
            "margin": null,
            "max_height": null,
            "max_width": null,
            "min_height": null,
            "min_width": null,
            "object_fit": null,
            "object_position": null,
            "order": null,
            "overflow": null,
            "overflow_x": null,
            "overflow_y": null,
            "padding": null,
            "right": null,
            "top": null,
            "visibility": null,
            "width": null
          }
        },
        "9568af372a5c43f7b0b83cc332860235": {
          "model_module": "@jupyter-widgets/base",
          "model_module_version": "1.2.0",
          "model_name": "LayoutModel",
          "state": {
            "_model_module": "@jupyter-widgets/base",
            "_model_module_version": "1.2.0",
            "_model_name": "LayoutModel",
            "_view_count": null,
            "_view_module": "@jupyter-widgets/base",
            "_view_module_version": "1.2.0",
            "_view_name": "LayoutView",
            "align_content": null,
            "align_items": null,
            "align_self": null,
            "border": null,
            "bottom": null,
            "display": null,
            "flex": null,
            "flex_flow": null,
            "grid_area": null,
            "grid_auto_columns": null,
            "grid_auto_flow": null,
            "grid_auto_rows": null,
            "grid_column": null,
            "grid_gap": null,
            "grid_row": null,
            "grid_template_areas": null,
            "grid_template_columns": null,
            "grid_template_rows": null,
            "height": null,
            "justify_content": null,
            "justify_items": null,
            "left": null,
            "margin": null,
            "max_height": null,
            "max_width": null,
            "min_height": null,
            "min_width": null,
            "object_fit": null,
            "object_position": null,
            "order": null,
            "overflow": null,
            "overflow_x": null,
            "overflow_y": null,
            "padding": null,
            "right": null,
            "top": null,
            "visibility": null,
            "width": null
          }
        },
        "96fcbaf920ec4567b660251ba0aaab63": {
          "model_module": "@jupyter-widgets/controls",
          "model_module_version": "1.5.0",
          "model_name": "DescriptionStyleModel",
          "state": {
            "_model_module": "@jupyter-widgets/controls",
            "_model_module_version": "1.5.0",
            "_model_name": "DescriptionStyleModel",
            "_view_count": null,
            "_view_module": "@jupyter-widgets/base",
            "_view_module_version": "1.2.0",
            "_view_name": "StyleView",
            "description_width": ""
          }
        },
        "9b7645d0bad44fcfa5a4314cacb3bc8b": {
          "model_module": "@jupyter-widgets/controls",
          "model_module_version": "1.5.0",
          "model_name": "DescriptionStyleModel",
          "state": {
            "_model_module": "@jupyter-widgets/controls",
            "_model_module_version": "1.5.0",
            "_model_name": "DescriptionStyleModel",
            "_view_count": null,
            "_view_module": "@jupyter-widgets/base",
            "_view_module_version": "1.2.0",
            "_view_name": "StyleView",
            "description_width": ""
          }
        },
        "ab45884c851641eb90a1c5a92597fcfe": {
          "model_module": "@jupyter-widgets/controls",
          "model_module_version": "1.5.0",
          "model_name": "HTMLModel",
          "state": {
            "_dom_classes": [],
            "_model_module": "@jupyter-widgets/controls",
            "_model_module_version": "1.5.0",
            "_model_name": "HTMLModel",
            "_view_count": null,
            "_view_module": "@jupyter-widgets/controls",
            "_view_module_version": "1.5.0",
            "_view_name": "HTMLView",
            "description": "",
            "description_tooltip": null,
            "layout": "IPY_MODEL_d25a80b42f1e4354970531556e49a467",
            "placeholder": "​",
            "style": "IPY_MODEL_fabb389f80df473bad4de3b17fa726f1",
            "value": "Downloading https://raw.githubusercontent.com/stanfordnlp/stanza-resources/main/resources_1.6.0.json: "
          }
        },
        "b370a8537ce847b3bda281fe3ecf118f": {
          "model_module": "@jupyter-widgets/controls",
          "model_module_version": "1.5.0",
          "model_name": "DescriptionStyleModel",
          "state": {
            "_model_module": "@jupyter-widgets/controls",
            "_model_module_version": "1.5.0",
            "_model_name": "DescriptionStyleModel",
            "_view_count": null,
            "_view_module": "@jupyter-widgets/base",
            "_view_module_version": "1.2.0",
            "_view_name": "StyleView",
            "description_width": ""
          }
        },
        "b69d4db4e75042f8b0af68f17bb8054f": {
          "model_module": "@jupyter-widgets/base",
          "model_module_version": "1.2.0",
          "model_name": "LayoutModel",
          "state": {
            "_model_module": "@jupyter-widgets/base",
            "_model_module_version": "1.2.0",
            "_model_name": "LayoutModel",
            "_view_count": null,
            "_view_module": "@jupyter-widgets/base",
            "_view_module_version": "1.2.0",
            "_view_name": "LayoutView",
            "align_content": null,
            "align_items": null,
            "align_self": null,
            "border": null,
            "bottom": null,
            "display": null,
            "flex": null,
            "flex_flow": null,
            "grid_area": null,
            "grid_auto_columns": null,
            "grid_auto_flow": null,
            "grid_auto_rows": null,
            "grid_column": null,
            "grid_gap": null,
            "grid_row": null,
            "grid_template_areas": null,
            "grid_template_columns": null,
            "grid_template_rows": null,
            "height": null,
            "justify_content": null,
            "justify_items": null,
            "left": null,
            "margin": null,
            "max_height": null,
            "max_width": null,
            "min_height": null,
            "min_width": null,
            "object_fit": null,
            "object_position": null,
            "order": null,
            "overflow": null,
            "overflow_x": null,
            "overflow_y": null,
            "padding": null,
            "right": null,
            "top": null,
            "visibility": null,
            "width": null
          }
        },
        "c09634e972944c9db23654507cc7cbe7": {
          "model_module": "@jupyter-widgets/controls",
          "model_module_version": "1.5.0",
          "model_name": "HBoxModel",
          "state": {
            "_dom_classes": [],
            "_model_module": "@jupyter-widgets/controls",
            "_model_module_version": "1.5.0",
            "_model_name": "HBoxModel",
            "_view_count": null,
            "_view_module": "@jupyter-widgets/controls",
            "_view_module_version": "1.5.0",
            "_view_name": "HBoxView",
            "box_style": "",
            "children": [
              "IPY_MODEL_3be1141c5fd041a2a8dbc4392dc124bc",
              "IPY_MODEL_492cb6c20ef64073b7b2b098dbe11303",
              "IPY_MODEL_474177504c95461e9813ecdea8b3eabe"
            ],
            "layout": "IPY_MODEL_38c8c7888d4f4e95911401efb4b5a2a1"
          }
        },
        "d25a80b42f1e4354970531556e49a467": {
          "model_module": "@jupyter-widgets/base",
          "model_module_version": "1.2.0",
          "model_name": "LayoutModel",
          "state": {
            "_model_module": "@jupyter-widgets/base",
            "_model_module_version": "1.2.0",
            "_model_name": "LayoutModel",
            "_view_count": null,
            "_view_module": "@jupyter-widgets/base",
            "_view_module_version": "1.2.0",
            "_view_name": "LayoutView",
            "align_content": null,
            "align_items": null,
            "align_self": null,
            "border": null,
            "bottom": null,
            "display": null,
            "flex": null,
            "flex_flow": null,
            "grid_area": null,
            "grid_auto_columns": null,
            "grid_auto_flow": null,
            "grid_auto_rows": null,
            "grid_column": null,
            "grid_gap": null,
            "grid_row": null,
            "grid_template_areas": null,
            "grid_template_columns": null,
            "grid_template_rows": null,
            "height": null,
            "justify_content": null,
            "justify_items": null,
            "left": null,
            "margin": null,
            "max_height": null,
            "max_width": null,
            "min_height": null,
            "min_width": null,
            "object_fit": null,
            "object_position": null,
            "order": null,
            "overflow": null,
            "overflow_x": null,
            "overflow_y": null,
            "padding": null,
            "right": null,
            "top": null,
            "visibility": null,
            "width": null
          }
        },
        "de107615fdf24709a9e1534382a534e1": {
          "model_module": "@jupyter-widgets/controls",
          "model_module_version": "1.5.0",
          "model_name": "FloatProgressModel",
          "state": {
            "_dom_classes": [],
            "_model_module": "@jupyter-widgets/controls",
            "_model_module_version": "1.5.0",
            "_model_name": "FloatProgressModel",
            "_view_count": null,
            "_view_module": "@jupyter-widgets/controls",
            "_view_module_version": "1.5.0",
            "_view_name": "ProgressView",
            "bar_style": "success",
            "description": "",
            "description_tooltip": null,
            "layout": "IPY_MODEL_222587bd8fae4678b3125105f5392824",
            "max": 128721884,
            "min": 0,
            "orientation": "horizontal",
            "style": "IPY_MODEL_1f95feaaaf504a52ae70d6fae38c02a8",
            "value": 128721884
          }
        },
        "de3a53102e4e4ea8876238d690d518bd": {
          "model_module": "@jupyter-widgets/base",
          "model_module_version": "1.2.0",
          "model_name": "LayoutModel",
          "state": {
            "_model_module": "@jupyter-widgets/base",
            "_model_module_version": "1.2.0",
            "_model_name": "LayoutModel",
            "_view_count": null,
            "_view_module": "@jupyter-widgets/base",
            "_view_module_version": "1.2.0",
            "_view_name": "LayoutView",
            "align_content": null,
            "align_items": null,
            "align_self": null,
            "border": null,
            "bottom": null,
            "display": null,
            "flex": null,
            "flex_flow": null,
            "grid_area": null,
            "grid_auto_columns": null,
            "grid_auto_flow": null,
            "grid_auto_rows": null,
            "grid_column": null,
            "grid_gap": null,
            "grid_row": null,
            "grid_template_areas": null,
            "grid_template_columns": null,
            "grid_template_rows": null,
            "height": null,
            "justify_content": null,
            "justify_items": null,
            "left": null,
            "margin": null,
            "max_height": null,
            "max_width": null,
            "min_height": null,
            "min_width": null,
            "object_fit": null,
            "object_position": null,
            "order": null,
            "overflow": null,
            "overflow_x": null,
            "overflow_y": null,
            "padding": null,
            "right": null,
            "top": null,
            "visibility": null,
            "width": null
          }
        },
        "dec3c2fd1c864df0a5ad918d6ecc44a8": {
          "model_module": "@jupyter-widgets/controls",
          "model_module_version": "1.5.0",
          "model_name": "FloatProgressModel",
          "state": {
            "_dom_classes": [],
            "_model_module": "@jupyter-widgets/controls",
            "_model_module_version": "1.5.0",
            "_model_name": "FloatProgressModel",
            "_view_count": null,
            "_view_module": "@jupyter-widgets/controls",
            "_view_module_version": "1.5.0",
            "_view_name": "ProgressView",
            "bar_style": "success",
            "description": "",
            "description_tooltip": null,
            "layout": "IPY_MODEL_653ed55d871643139ccd354344ca4f90",
            "max": 45749,
            "min": 0,
            "orientation": "horizontal",
            "style": "IPY_MODEL_8bea382edeb346b7948f376b907a34ab",
            "value": 45749
          }
        },
        "f1d5b8523265425a9eec9ae77a699ea6": {
          "model_module": "@jupyter-widgets/controls",
          "model_module_version": "1.5.0",
          "model_name": "DescriptionStyleModel",
          "state": {
            "_model_module": "@jupyter-widgets/controls",
            "_model_module_version": "1.5.0",
            "_model_name": "DescriptionStyleModel",
            "_view_count": null,
            "_view_module": "@jupyter-widgets/base",
            "_view_module_version": "1.2.0",
            "_view_name": "StyleView",
            "description_width": ""
          }
        },
        "fabb389f80df473bad4de3b17fa726f1": {
          "model_module": "@jupyter-widgets/controls",
          "model_module_version": "1.5.0",
          "model_name": "DescriptionStyleModel",
          "state": {
            "_model_module": "@jupyter-widgets/controls",
            "_model_module_version": "1.5.0",
            "_model_name": "DescriptionStyleModel",
            "_view_count": null,
            "_view_module": "@jupyter-widgets/base",
            "_view_module_version": "1.2.0",
            "_view_name": "StyleView",
            "description_width": ""
          }
        },
        "d34a59fb4f2f457199ea4c9b1e889e23": {
          "model_module": "@jupyter-widgets/controls",
          "model_name": "HBoxModel",
          "model_module_version": "1.5.0",
          "state": {
            "_dom_classes": [],
            "_model_module": "@jupyter-widgets/controls",
            "_model_module_version": "1.5.0",
            "_model_name": "HBoxModel",
            "_view_count": null,
            "_view_module": "@jupyter-widgets/controls",
            "_view_module_version": "1.5.0",
            "_view_name": "HBoxView",
            "box_style": "",
            "children": [
              "IPY_MODEL_a93708be923c4d3bb009ed102887ffce",
              "IPY_MODEL_97588dd8ac44418b8deef0e374ccc0a6",
              "IPY_MODEL_cf614aa512854b948dbf41b49791df07"
            ],
            "layout": "IPY_MODEL_9059b23aa06f4679a440b2da727224fc"
          }
        },
        "a93708be923c4d3bb009ed102887ffce": {
          "model_module": "@jupyter-widgets/controls",
          "model_name": "HTMLModel",
          "model_module_version": "1.5.0",
          "state": {
            "_dom_classes": [],
            "_model_module": "@jupyter-widgets/controls",
            "_model_module_version": "1.5.0",
            "_model_name": "HTMLModel",
            "_view_count": null,
            "_view_module": "@jupyter-widgets/controls",
            "_view_module_version": "1.5.0",
            "_view_name": "HTMLView",
            "description": "",
            "description_tooltip": null,
            "layout": "IPY_MODEL_b379e4193a1c4255bf948ed8c3d6fd11",
            "placeholder": "​",
            "style": "IPY_MODEL_162a5e12f6d944a784cb455d2048c720",
            "value": "Downloading https://raw.githubusercontent.com/stanfordnlp/stanza-resources/main/resources_1.6.0.json: "
          }
        },
        "97588dd8ac44418b8deef0e374ccc0a6": {
          "model_module": "@jupyter-widgets/controls",
          "model_name": "FloatProgressModel",
          "model_module_version": "1.5.0",
          "state": {
            "_dom_classes": [],
            "_model_module": "@jupyter-widgets/controls",
            "_model_module_version": "1.5.0",
            "_model_name": "FloatProgressModel",
            "_view_count": null,
            "_view_module": "@jupyter-widgets/controls",
            "_view_module_version": "1.5.0",
            "_view_name": "ProgressView",
            "bar_style": "success",
            "description": "",
            "description_tooltip": null,
            "layout": "IPY_MODEL_e099da0dfed8426a98d3b177e6cf6352",
            "max": 45749,
            "min": 0,
            "orientation": "horizontal",
            "style": "IPY_MODEL_f92bc8d308be446ebfc73a3568a49582",
            "value": 45749
          }
        },
        "cf614aa512854b948dbf41b49791df07": {
          "model_module": "@jupyter-widgets/controls",
          "model_name": "HTMLModel",
          "model_module_version": "1.5.0",
          "state": {
            "_dom_classes": [],
            "_model_module": "@jupyter-widgets/controls",
            "_model_module_version": "1.5.0",
            "_model_name": "HTMLModel",
            "_view_count": null,
            "_view_module": "@jupyter-widgets/controls",
            "_view_module_version": "1.5.0",
            "_view_name": "HTMLView",
            "description": "",
            "description_tooltip": null,
            "layout": "IPY_MODEL_afff875222f449879f1e85c050e7f60b",
            "placeholder": "​",
            "style": "IPY_MODEL_b3eb43cbeb60461184eabecc5ee392f8",
            "value": " 367k/? [00:00&lt;00:00, 18.0MB/s]"
          }
        },
        "9059b23aa06f4679a440b2da727224fc": {
          "model_module": "@jupyter-widgets/base",
          "model_name": "LayoutModel",
          "model_module_version": "1.2.0",
          "state": {
            "_model_module": "@jupyter-widgets/base",
            "_model_module_version": "1.2.0",
            "_model_name": "LayoutModel",
            "_view_count": null,
            "_view_module": "@jupyter-widgets/base",
            "_view_module_version": "1.2.0",
            "_view_name": "LayoutView",
            "align_content": null,
            "align_items": null,
            "align_self": null,
            "border": null,
            "bottom": null,
            "display": null,
            "flex": null,
            "flex_flow": null,
            "grid_area": null,
            "grid_auto_columns": null,
            "grid_auto_flow": null,
            "grid_auto_rows": null,
            "grid_column": null,
            "grid_gap": null,
            "grid_row": null,
            "grid_template_areas": null,
            "grid_template_columns": null,
            "grid_template_rows": null,
            "height": null,
            "justify_content": null,
            "justify_items": null,
            "left": null,
            "margin": null,
            "max_height": null,
            "max_width": null,
            "min_height": null,
            "min_width": null,
            "object_fit": null,
            "object_position": null,
            "order": null,
            "overflow": null,
            "overflow_x": null,
            "overflow_y": null,
            "padding": null,
            "right": null,
            "top": null,
            "visibility": null,
            "width": null
          }
        },
        "b379e4193a1c4255bf948ed8c3d6fd11": {
          "model_module": "@jupyter-widgets/base",
          "model_name": "LayoutModel",
          "model_module_version": "1.2.0",
          "state": {
            "_model_module": "@jupyter-widgets/base",
            "_model_module_version": "1.2.0",
            "_model_name": "LayoutModel",
            "_view_count": null,
            "_view_module": "@jupyter-widgets/base",
            "_view_module_version": "1.2.0",
            "_view_name": "LayoutView",
            "align_content": null,
            "align_items": null,
            "align_self": null,
            "border": null,
            "bottom": null,
            "display": null,
            "flex": null,
            "flex_flow": null,
            "grid_area": null,
            "grid_auto_columns": null,
            "grid_auto_flow": null,
            "grid_auto_rows": null,
            "grid_column": null,
            "grid_gap": null,
            "grid_row": null,
            "grid_template_areas": null,
            "grid_template_columns": null,
            "grid_template_rows": null,
            "height": null,
            "justify_content": null,
            "justify_items": null,
            "left": null,
            "margin": null,
            "max_height": null,
            "max_width": null,
            "min_height": null,
            "min_width": null,
            "object_fit": null,
            "object_position": null,
            "order": null,
            "overflow": null,
            "overflow_x": null,
            "overflow_y": null,
            "padding": null,
            "right": null,
            "top": null,
            "visibility": null,
            "width": null
          }
        },
        "162a5e12f6d944a784cb455d2048c720": {
          "model_module": "@jupyter-widgets/controls",
          "model_name": "DescriptionStyleModel",
          "model_module_version": "1.5.0",
          "state": {
            "_model_module": "@jupyter-widgets/controls",
            "_model_module_version": "1.5.0",
            "_model_name": "DescriptionStyleModel",
            "_view_count": null,
            "_view_module": "@jupyter-widgets/base",
            "_view_module_version": "1.2.0",
            "_view_name": "StyleView",
            "description_width": ""
          }
        },
        "e099da0dfed8426a98d3b177e6cf6352": {
          "model_module": "@jupyter-widgets/base",
          "model_name": "LayoutModel",
          "model_module_version": "1.2.0",
          "state": {
            "_model_module": "@jupyter-widgets/base",
            "_model_module_version": "1.2.0",
            "_model_name": "LayoutModel",
            "_view_count": null,
            "_view_module": "@jupyter-widgets/base",
            "_view_module_version": "1.2.0",
            "_view_name": "LayoutView",
            "align_content": null,
            "align_items": null,
            "align_self": null,
            "border": null,
            "bottom": null,
            "display": null,
            "flex": null,
            "flex_flow": null,
            "grid_area": null,
            "grid_auto_columns": null,
            "grid_auto_flow": null,
            "grid_auto_rows": null,
            "grid_column": null,
            "grid_gap": null,
            "grid_row": null,
            "grid_template_areas": null,
            "grid_template_columns": null,
            "grid_template_rows": null,
            "height": null,
            "justify_content": null,
            "justify_items": null,
            "left": null,
            "margin": null,
            "max_height": null,
            "max_width": null,
            "min_height": null,
            "min_width": null,
            "object_fit": null,
            "object_position": null,
            "order": null,
            "overflow": null,
            "overflow_x": null,
            "overflow_y": null,
            "padding": null,
            "right": null,
            "top": null,
            "visibility": null,
            "width": null
          }
        },
        "f92bc8d308be446ebfc73a3568a49582": {
          "model_module": "@jupyter-widgets/controls",
          "model_name": "ProgressStyleModel",
          "model_module_version": "1.5.0",
          "state": {
            "_model_module": "@jupyter-widgets/controls",
            "_model_module_version": "1.5.0",
            "_model_name": "ProgressStyleModel",
            "_view_count": null,
            "_view_module": "@jupyter-widgets/base",
            "_view_module_version": "1.2.0",
            "_view_name": "StyleView",
            "bar_color": null,
            "description_width": ""
          }
        },
        "afff875222f449879f1e85c050e7f60b": {
          "model_module": "@jupyter-widgets/base",
          "model_name": "LayoutModel",
          "model_module_version": "1.2.0",
          "state": {
            "_model_module": "@jupyter-widgets/base",
            "_model_module_version": "1.2.0",
            "_model_name": "LayoutModel",
            "_view_count": null,
            "_view_module": "@jupyter-widgets/base",
            "_view_module_version": "1.2.0",
            "_view_name": "LayoutView",
            "align_content": null,
            "align_items": null,
            "align_self": null,
            "border": null,
            "bottom": null,
            "display": null,
            "flex": null,
            "flex_flow": null,
            "grid_area": null,
            "grid_auto_columns": null,
            "grid_auto_flow": null,
            "grid_auto_rows": null,
            "grid_column": null,
            "grid_gap": null,
            "grid_row": null,
            "grid_template_areas": null,
            "grid_template_columns": null,
            "grid_template_rows": null,
            "height": null,
            "justify_content": null,
            "justify_items": null,
            "left": null,
            "margin": null,
            "max_height": null,
            "max_width": null,
            "min_height": null,
            "min_width": null,
            "object_fit": null,
            "object_position": null,
            "order": null,
            "overflow": null,
            "overflow_x": null,
            "overflow_y": null,
            "padding": null,
            "right": null,
            "top": null,
            "visibility": null,
            "width": null
          }
        },
        "b3eb43cbeb60461184eabecc5ee392f8": {
          "model_module": "@jupyter-widgets/controls",
          "model_name": "DescriptionStyleModel",
          "model_module_version": "1.5.0",
          "state": {
            "_model_module": "@jupyter-widgets/controls",
            "_model_module_version": "1.5.0",
            "_model_name": "DescriptionStyleModel",
            "_view_count": null,
            "_view_module": "@jupyter-widgets/base",
            "_view_module_version": "1.2.0",
            "_view_name": "StyleView",
            "description_width": ""
          }
        },
        "6bfc66000ad340308294df130c55a7af": {
          "model_module": "@jupyter-widgets/controls",
          "model_name": "HBoxModel",
          "model_module_version": "1.5.0",
          "state": {
            "_dom_classes": [],
            "_model_module": "@jupyter-widgets/controls",
            "_model_module_version": "1.5.0",
            "_model_name": "HBoxModel",
            "_view_count": null,
            "_view_module": "@jupyter-widgets/controls",
            "_view_module_version": "1.5.0",
            "_view_name": "HBoxView",
            "box_style": "",
            "children": [
              "IPY_MODEL_0f8c9797757147dcb63ec5ad8cd4bc56",
              "IPY_MODEL_3e890af481244dbdb6f760062bba3586",
              "IPY_MODEL_f4a56f850aef4ce7b1455fddc3996ded"
            ],
            "layout": "IPY_MODEL_05059aa7dfea48deb5fbd3ebfec1a90e"
          }
        },
        "0f8c9797757147dcb63ec5ad8cd4bc56": {
          "model_module": "@jupyter-widgets/controls",
          "model_name": "HTMLModel",
          "model_module_version": "1.5.0",
          "state": {
            "_dom_classes": [],
            "_model_module": "@jupyter-widgets/controls",
            "_model_module_version": "1.5.0",
            "_model_name": "HTMLModel",
            "_view_count": null,
            "_view_module": "@jupyter-widgets/controls",
            "_view_module_version": "1.5.0",
            "_view_name": "HTMLView",
            "description": "",
            "description_tooltip": null,
            "layout": "IPY_MODEL_4f5d150d41a24d678ad1ef1f1a285228",
            "placeholder": "​",
            "style": "IPY_MODEL_37fc2cf5e19c46518a4816475fe477e6",
            "value": "Downloading https://huggingface.co/stanfordnlp/stanza-la/resolve/v1.6.0/models/default.zip: 100%"
          }
        },
        "3e890af481244dbdb6f760062bba3586": {
          "model_module": "@jupyter-widgets/controls",
          "model_name": "FloatProgressModel",
          "model_module_version": "1.5.0",
          "state": {
            "_dom_classes": [],
            "_model_module": "@jupyter-widgets/controls",
            "_model_module_version": "1.5.0",
            "_model_name": "FloatProgressModel",
            "_view_count": null,
            "_view_module": "@jupyter-widgets/controls",
            "_view_module_version": "1.5.0",
            "_view_name": "ProgressView",
            "bar_style": "success",
            "description": "",
            "description_tooltip": null,
            "layout": "IPY_MODEL_711ba57432744519a55d054b4d2f33fe",
            "max": 222694638,
            "min": 0,
            "orientation": "horizontal",
            "style": "IPY_MODEL_a5b468989d4548c6b7896052c3b07c22",
            "value": 222694638
          }
        },
        "f4a56f850aef4ce7b1455fddc3996ded": {
          "model_module": "@jupyter-widgets/controls",
          "model_name": "HTMLModel",
          "model_module_version": "1.5.0",
          "state": {
            "_dom_classes": [],
            "_model_module": "@jupyter-widgets/controls",
            "_model_module_version": "1.5.0",
            "_model_name": "HTMLModel",
            "_view_count": null,
            "_view_module": "@jupyter-widgets/controls",
            "_view_module_version": "1.5.0",
            "_view_name": "HTMLView",
            "description": "",
            "description_tooltip": null,
            "layout": "IPY_MODEL_c71de56bafba4aa4a437aec0c050e1ca",
            "placeholder": "​",
            "style": "IPY_MODEL_fa16b53251d54e31ad225e3171f39603",
            "value": " 223M/223M [00:15&lt;00:00, 13.8MB/s]"
          }
        },
        "05059aa7dfea48deb5fbd3ebfec1a90e": {
          "model_module": "@jupyter-widgets/base",
          "model_name": "LayoutModel",
          "model_module_version": "1.2.0",
          "state": {
            "_model_module": "@jupyter-widgets/base",
            "_model_module_version": "1.2.0",
            "_model_name": "LayoutModel",
            "_view_count": null,
            "_view_module": "@jupyter-widgets/base",
            "_view_module_version": "1.2.0",
            "_view_name": "LayoutView",
            "align_content": null,
            "align_items": null,
            "align_self": null,
            "border": null,
            "bottom": null,
            "display": null,
            "flex": null,
            "flex_flow": null,
            "grid_area": null,
            "grid_auto_columns": null,
            "grid_auto_flow": null,
            "grid_auto_rows": null,
            "grid_column": null,
            "grid_gap": null,
            "grid_row": null,
            "grid_template_areas": null,
            "grid_template_columns": null,
            "grid_template_rows": null,
            "height": null,
            "justify_content": null,
            "justify_items": null,
            "left": null,
            "margin": null,
            "max_height": null,
            "max_width": null,
            "min_height": null,
            "min_width": null,
            "object_fit": null,
            "object_position": null,
            "order": null,
            "overflow": null,
            "overflow_x": null,
            "overflow_y": null,
            "padding": null,
            "right": null,
            "top": null,
            "visibility": null,
            "width": null
          }
        },
        "4f5d150d41a24d678ad1ef1f1a285228": {
          "model_module": "@jupyter-widgets/base",
          "model_name": "LayoutModel",
          "model_module_version": "1.2.0",
          "state": {
            "_model_module": "@jupyter-widgets/base",
            "_model_module_version": "1.2.0",
            "_model_name": "LayoutModel",
            "_view_count": null,
            "_view_module": "@jupyter-widgets/base",
            "_view_module_version": "1.2.0",
            "_view_name": "LayoutView",
            "align_content": null,
            "align_items": null,
            "align_self": null,
            "border": null,
            "bottom": null,
            "display": null,
            "flex": null,
            "flex_flow": null,
            "grid_area": null,
            "grid_auto_columns": null,
            "grid_auto_flow": null,
            "grid_auto_rows": null,
            "grid_column": null,
            "grid_gap": null,
            "grid_row": null,
            "grid_template_areas": null,
            "grid_template_columns": null,
            "grid_template_rows": null,
            "height": null,
            "justify_content": null,
            "justify_items": null,
            "left": null,
            "margin": null,
            "max_height": null,
            "max_width": null,
            "min_height": null,
            "min_width": null,
            "object_fit": null,
            "object_position": null,
            "order": null,
            "overflow": null,
            "overflow_x": null,
            "overflow_y": null,
            "padding": null,
            "right": null,
            "top": null,
            "visibility": null,
            "width": null
          }
        },
        "37fc2cf5e19c46518a4816475fe477e6": {
          "model_module": "@jupyter-widgets/controls",
          "model_name": "DescriptionStyleModel",
          "model_module_version": "1.5.0",
          "state": {
            "_model_module": "@jupyter-widgets/controls",
            "_model_module_version": "1.5.0",
            "_model_name": "DescriptionStyleModel",
            "_view_count": null,
            "_view_module": "@jupyter-widgets/base",
            "_view_module_version": "1.2.0",
            "_view_name": "StyleView",
            "description_width": ""
          }
        },
        "711ba57432744519a55d054b4d2f33fe": {
          "model_module": "@jupyter-widgets/base",
          "model_name": "LayoutModel",
          "model_module_version": "1.2.0",
          "state": {
            "_model_module": "@jupyter-widgets/base",
            "_model_module_version": "1.2.0",
            "_model_name": "LayoutModel",
            "_view_count": null,
            "_view_module": "@jupyter-widgets/base",
            "_view_module_version": "1.2.0",
            "_view_name": "LayoutView",
            "align_content": null,
            "align_items": null,
            "align_self": null,
            "border": null,
            "bottom": null,
            "display": null,
            "flex": null,
            "flex_flow": null,
            "grid_area": null,
            "grid_auto_columns": null,
            "grid_auto_flow": null,
            "grid_auto_rows": null,
            "grid_column": null,
            "grid_gap": null,
            "grid_row": null,
            "grid_template_areas": null,
            "grid_template_columns": null,
            "grid_template_rows": null,
            "height": null,
            "justify_content": null,
            "justify_items": null,
            "left": null,
            "margin": null,
            "max_height": null,
            "max_width": null,
            "min_height": null,
            "min_width": null,
            "object_fit": null,
            "object_position": null,
            "order": null,
            "overflow": null,
            "overflow_x": null,
            "overflow_y": null,
            "padding": null,
            "right": null,
            "top": null,
            "visibility": null,
            "width": null
          }
        },
        "a5b468989d4548c6b7896052c3b07c22": {
          "model_module": "@jupyter-widgets/controls",
          "model_name": "ProgressStyleModel",
          "model_module_version": "1.5.0",
          "state": {
            "_model_module": "@jupyter-widgets/controls",
            "_model_module_version": "1.5.0",
            "_model_name": "ProgressStyleModel",
            "_view_count": null,
            "_view_module": "@jupyter-widgets/base",
            "_view_module_version": "1.2.0",
            "_view_name": "StyleView",
            "bar_color": null,
            "description_width": ""
          }
        },
        "c71de56bafba4aa4a437aec0c050e1ca": {
          "model_module": "@jupyter-widgets/base",
          "model_name": "LayoutModel",
          "model_module_version": "1.2.0",
          "state": {
            "_model_module": "@jupyter-widgets/base",
            "_model_module_version": "1.2.0",
            "_model_name": "LayoutModel",
            "_view_count": null,
            "_view_module": "@jupyter-widgets/base",
            "_view_module_version": "1.2.0",
            "_view_name": "LayoutView",
            "align_content": null,
            "align_items": null,
            "align_self": null,
            "border": null,
            "bottom": null,
            "display": null,
            "flex": null,
            "flex_flow": null,
            "grid_area": null,
            "grid_auto_columns": null,
            "grid_auto_flow": null,
            "grid_auto_rows": null,
            "grid_column": null,
            "grid_gap": null,
            "grid_row": null,
            "grid_template_areas": null,
            "grid_template_columns": null,
            "grid_template_rows": null,
            "height": null,
            "justify_content": null,
            "justify_items": null,
            "left": null,
            "margin": null,
            "max_height": null,
            "max_width": null,
            "min_height": null,
            "min_width": null,
            "object_fit": null,
            "object_position": null,
            "order": null,
            "overflow": null,
            "overflow_x": null,
            "overflow_y": null,
            "padding": null,
            "right": null,
            "top": null,
            "visibility": null,
            "width": null
          }
        },
        "fa16b53251d54e31ad225e3171f39603": {
          "model_module": "@jupyter-widgets/controls",
          "model_name": "DescriptionStyleModel",
          "model_module_version": "1.5.0",
          "state": {
            "_model_module": "@jupyter-widgets/controls",
            "_model_module_version": "1.5.0",
            "_model_name": "DescriptionStyleModel",
            "_view_count": null,
            "_view_module": "@jupyter-widgets/base",
            "_view_module_version": "1.2.0",
            "_view_name": "StyleView",
            "description_width": ""
          }
        },
        "ed014a773d7847f2a4fa415b7192ae24": {
          "model_module": "@jupyter-widgets/controls",
          "model_name": "HBoxModel",
          "model_module_version": "1.5.0",
          "state": {
            "_dom_classes": [],
            "_model_module": "@jupyter-widgets/controls",
            "_model_module_version": "1.5.0",
            "_model_name": "HBoxModel",
            "_view_count": null,
            "_view_module": "@jupyter-widgets/controls",
            "_view_module_version": "1.5.0",
            "_view_name": "HBoxView",
            "box_style": "",
            "children": [
              "IPY_MODEL_2c0f3276a2b04085a959ac6756137596",
              "IPY_MODEL_ad9a6b669e4041c791af5e4212696da2",
              "IPY_MODEL_ad1244d422ce4023a62e341d9603751d"
            ],
            "layout": "IPY_MODEL_880e623ed96a4eb2bbb8656021d04947"
          }
        },
        "2c0f3276a2b04085a959ac6756137596": {
          "model_module": "@jupyter-widgets/controls",
          "model_name": "HTMLModel",
          "model_module_version": "1.5.0",
          "state": {
            "_dom_classes": [],
            "_model_module": "@jupyter-widgets/controls",
            "_model_module_version": "1.5.0",
            "_model_name": "HTMLModel",
            "_view_count": null,
            "_view_module": "@jupyter-widgets/controls",
            "_view_module_version": "1.5.0",
            "_view_name": "HTMLView",
            "description": "",
            "description_tooltip": null,
            "layout": "IPY_MODEL_0796fd8cfb554f53a6feb1ca5a55d92e",
            "placeholder": "​",
            "style": "IPY_MODEL_09f5cda8022748fc9348fc3dcfc9a4b5",
            "value": "Downloading https://raw.githubusercontent.com/stanfordnlp/stanza-resources/main/resources_1.6.0.json: "
          }
        },
        "ad9a6b669e4041c791af5e4212696da2": {
          "model_module": "@jupyter-widgets/controls",
          "model_name": "FloatProgressModel",
          "model_module_version": "1.5.0",
          "state": {
            "_dom_classes": [],
            "_model_module": "@jupyter-widgets/controls",
            "_model_module_version": "1.5.0",
            "_model_name": "FloatProgressModel",
            "_view_count": null,
            "_view_module": "@jupyter-widgets/controls",
            "_view_module_version": "1.5.0",
            "_view_name": "ProgressView",
            "bar_style": "success",
            "description": "",
            "description_tooltip": null,
            "layout": "IPY_MODEL_017371c9c85d41f69ea68ae9ff3af289",
            "max": 45749,
            "min": 0,
            "orientation": "horizontal",
            "style": "IPY_MODEL_a14ebc61f7be48818e70fca19116090e",
            "value": 45749
          }
        },
        "ad1244d422ce4023a62e341d9603751d": {
          "model_module": "@jupyter-widgets/controls",
          "model_name": "HTMLModel",
          "model_module_version": "1.5.0",
          "state": {
            "_dom_classes": [],
            "_model_module": "@jupyter-widgets/controls",
            "_model_module_version": "1.5.0",
            "_model_name": "HTMLModel",
            "_view_count": null,
            "_view_module": "@jupyter-widgets/controls",
            "_view_module_version": "1.5.0",
            "_view_name": "HTMLView",
            "description": "",
            "description_tooltip": null,
            "layout": "IPY_MODEL_58643543102e4abb906e354b2ea2ab11",
            "placeholder": "​",
            "style": "IPY_MODEL_45d15f550dbf4a1dbec29594205ebfd0",
            "value": " 367k/? [00:00&lt;00:00, 17.0MB/s]"
          }
        },
        "880e623ed96a4eb2bbb8656021d04947": {
          "model_module": "@jupyter-widgets/base",
          "model_name": "LayoutModel",
          "model_module_version": "1.2.0",
          "state": {
            "_model_module": "@jupyter-widgets/base",
            "_model_module_version": "1.2.0",
            "_model_name": "LayoutModel",
            "_view_count": null,
            "_view_module": "@jupyter-widgets/base",
            "_view_module_version": "1.2.0",
            "_view_name": "LayoutView",
            "align_content": null,
            "align_items": null,
            "align_self": null,
            "border": null,
            "bottom": null,
            "display": null,
            "flex": null,
            "flex_flow": null,
            "grid_area": null,
            "grid_auto_columns": null,
            "grid_auto_flow": null,
            "grid_auto_rows": null,
            "grid_column": null,
            "grid_gap": null,
            "grid_row": null,
            "grid_template_areas": null,
            "grid_template_columns": null,
            "grid_template_rows": null,
            "height": null,
            "justify_content": null,
            "justify_items": null,
            "left": null,
            "margin": null,
            "max_height": null,
            "max_width": null,
            "min_height": null,
            "min_width": null,
            "object_fit": null,
            "object_position": null,
            "order": null,
            "overflow": null,
            "overflow_x": null,
            "overflow_y": null,
            "padding": null,
            "right": null,
            "top": null,
            "visibility": null,
            "width": null
          }
        },
        "0796fd8cfb554f53a6feb1ca5a55d92e": {
          "model_module": "@jupyter-widgets/base",
          "model_name": "LayoutModel",
          "model_module_version": "1.2.0",
          "state": {
            "_model_module": "@jupyter-widgets/base",
            "_model_module_version": "1.2.0",
            "_model_name": "LayoutModel",
            "_view_count": null,
            "_view_module": "@jupyter-widgets/base",
            "_view_module_version": "1.2.0",
            "_view_name": "LayoutView",
            "align_content": null,
            "align_items": null,
            "align_self": null,
            "border": null,
            "bottom": null,
            "display": null,
            "flex": null,
            "flex_flow": null,
            "grid_area": null,
            "grid_auto_columns": null,
            "grid_auto_flow": null,
            "grid_auto_rows": null,
            "grid_column": null,
            "grid_gap": null,
            "grid_row": null,
            "grid_template_areas": null,
            "grid_template_columns": null,
            "grid_template_rows": null,
            "height": null,
            "justify_content": null,
            "justify_items": null,
            "left": null,
            "margin": null,
            "max_height": null,
            "max_width": null,
            "min_height": null,
            "min_width": null,
            "object_fit": null,
            "object_position": null,
            "order": null,
            "overflow": null,
            "overflow_x": null,
            "overflow_y": null,
            "padding": null,
            "right": null,
            "top": null,
            "visibility": null,
            "width": null
          }
        },
        "09f5cda8022748fc9348fc3dcfc9a4b5": {
          "model_module": "@jupyter-widgets/controls",
          "model_name": "DescriptionStyleModel",
          "model_module_version": "1.5.0",
          "state": {
            "_model_module": "@jupyter-widgets/controls",
            "_model_module_version": "1.5.0",
            "_model_name": "DescriptionStyleModel",
            "_view_count": null,
            "_view_module": "@jupyter-widgets/base",
            "_view_module_version": "1.2.0",
            "_view_name": "StyleView",
            "description_width": ""
          }
        },
        "017371c9c85d41f69ea68ae9ff3af289": {
          "model_module": "@jupyter-widgets/base",
          "model_name": "LayoutModel",
          "model_module_version": "1.2.0",
          "state": {
            "_model_module": "@jupyter-widgets/base",
            "_model_module_version": "1.2.0",
            "_model_name": "LayoutModel",
            "_view_count": null,
            "_view_module": "@jupyter-widgets/base",
            "_view_module_version": "1.2.0",
            "_view_name": "LayoutView",
            "align_content": null,
            "align_items": null,
            "align_self": null,
            "border": null,
            "bottom": null,
            "display": null,
            "flex": null,
            "flex_flow": null,
            "grid_area": null,
            "grid_auto_columns": null,
            "grid_auto_flow": null,
            "grid_auto_rows": null,
            "grid_column": null,
            "grid_gap": null,
            "grid_row": null,
            "grid_template_areas": null,
            "grid_template_columns": null,
            "grid_template_rows": null,
            "height": null,
            "justify_content": null,
            "justify_items": null,
            "left": null,
            "margin": null,
            "max_height": null,
            "max_width": null,
            "min_height": null,
            "min_width": null,
            "object_fit": null,
            "object_position": null,
            "order": null,
            "overflow": null,
            "overflow_x": null,
            "overflow_y": null,
            "padding": null,
            "right": null,
            "top": null,
            "visibility": null,
            "width": null
          }
        },
        "a14ebc61f7be48818e70fca19116090e": {
          "model_module": "@jupyter-widgets/controls",
          "model_name": "ProgressStyleModel",
          "model_module_version": "1.5.0",
          "state": {
            "_model_module": "@jupyter-widgets/controls",
            "_model_module_version": "1.5.0",
            "_model_name": "ProgressStyleModel",
            "_view_count": null,
            "_view_module": "@jupyter-widgets/base",
            "_view_module_version": "1.2.0",
            "_view_name": "StyleView",
            "bar_color": null,
            "description_width": ""
          }
        },
        "58643543102e4abb906e354b2ea2ab11": {
          "model_module": "@jupyter-widgets/base",
          "model_name": "LayoutModel",
          "model_module_version": "1.2.0",
          "state": {
            "_model_module": "@jupyter-widgets/base",
            "_model_module_version": "1.2.0",
            "_model_name": "LayoutModel",
            "_view_count": null,
            "_view_module": "@jupyter-widgets/base",
            "_view_module_version": "1.2.0",
            "_view_name": "LayoutView",
            "align_content": null,
            "align_items": null,
            "align_self": null,
            "border": null,
            "bottom": null,
            "display": null,
            "flex": null,
            "flex_flow": null,
            "grid_area": null,
            "grid_auto_columns": null,
            "grid_auto_flow": null,
            "grid_auto_rows": null,
            "grid_column": null,
            "grid_gap": null,
            "grid_row": null,
            "grid_template_areas": null,
            "grid_template_columns": null,
            "grid_template_rows": null,
            "height": null,
            "justify_content": null,
            "justify_items": null,
            "left": null,
            "margin": null,
            "max_height": null,
            "max_width": null,
            "min_height": null,
            "min_width": null,
            "object_fit": null,
            "object_position": null,
            "order": null,
            "overflow": null,
            "overflow_x": null,
            "overflow_y": null,
            "padding": null,
            "right": null,
            "top": null,
            "visibility": null,
            "width": null
          }
        },
        "45d15f550dbf4a1dbec29594205ebfd0": {
          "model_module": "@jupyter-widgets/controls",
          "model_name": "DescriptionStyleModel",
          "model_module_version": "1.5.0",
          "state": {
            "_model_module": "@jupyter-widgets/controls",
            "_model_module_version": "1.5.0",
            "_model_name": "DescriptionStyleModel",
            "_view_count": null,
            "_view_module": "@jupyter-widgets/base",
            "_view_module_version": "1.2.0",
            "_view_name": "StyleView",
            "description_width": ""
          }
        }
      }
    }
  },
  "nbformat": 4,
  "nbformat_minor": 0
}